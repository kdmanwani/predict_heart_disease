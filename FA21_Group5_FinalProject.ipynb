{
 "cells": [
  {
   "cell_type": "markdown",
   "metadata": {},
   "source": [
    "# DS: 5110 Final Project\n",
    "\n",
    "Kelly Farrell - knf7vg  \n",
    "Karan Manwani - akp4he  \n",
    "Amanda Maruca - qfu2fy\n"
   ]
  },
  {
   "cell_type": "markdown",
   "metadata": {},
   "source": [
    "# Creating Spark Environment"
   ]
  },
  {
   "cell_type": "code",
   "execution_count": 1,
   "metadata": {},
   "outputs": [],
   "source": [
    "from pyspark.mllib.stat import Statistics\n",
    "from pyspark.mllib.linalg import Vectors\n",
    "from pyspark.sql import SparkSession\n",
    "from functools import reduce\n",
    "from pyspark.sql import DataFrame\n",
    "\n",
    "spark = SparkSession.builder \\\n",
    "        .master(\"local\") \\\n",
    "        .appName(\"mllib_classifier\") \\\n",
    "        .getOrCreate()\n",
    "sc = spark.sparkContext"
   ]
  },
  {
   "cell_type": "code",
   "execution_count": 2,
   "metadata": {},
   "outputs": [],
   "source": [
    "from pyspark import SparkContext"
   ]
  },
  {
   "cell_type": "code",
   "execution_count": 3,
   "metadata": {},
   "outputs": [],
   "source": [
    "SparkContext.setSystemProperty('spark.executor.memory', '30g')\n",
    "SparkContext.setSystemProperty('spark.executor.cores', '4')"
   ]
  },
  {
   "cell_type": "markdown",
   "metadata": {},
   "source": [
    "# Setup"
   ]
  },
  {
   "cell_type": "markdown",
   "metadata": {},
   "source": [
    "## Data Import and Cleaning"
   ]
  },
  {
   "cell_type": "code",
   "execution_count": 4,
   "metadata": {},
   "outputs": [],
   "source": [
    "#Lab Datasets\n",
    "#filesnames for each dataset\n",
    "\n",
    "cbc = 'CBC_J.csv' #complete blood count\n",
    "hscrp = 'HSCRP_J.csv' #high-sensitivity c reactive protein\n",
    "trigly = 'TRIGLY_J.csv' #triglycerides\n",
    "tchol = 'TCHOL_J.csv' #total cholesterol\n",
    "ins = 'INS_J.csv' #insulin"
   ]
  },
  {
   "cell_type": "code",
   "execution_count": 6,
   "metadata": {},
   "outputs": [],
   "source": [
    "import pandas as pd\n",
    "import numpy as np"
   ]
  },
  {
   "cell_type": "code",
   "execution_count": 7,
   "metadata": {},
   "outputs": [],
   "source": [
    "#reading in datasets"
   ]
  },
  {
   "cell_type": "code",
   "execution_count": 8,
   "metadata": {},
   "outputs": [],
   "source": [
    "df_cbc = pd.read_csv(cbc) #complete blood count\n",
    "df_hscrp = pd.read_csv(hscrp) #High-Sensitivity C-Reactive Protein\n",
    "df_trigly = pd.read_csv(trigly) #triglycerides\n",
    "df_tchol = pd.read_csv(tchol) #total cholesterol\n",
    "df_ins = pd.read_csv(ins) #insulin"
   ]
  },
  {
   "cell_type": "code",
   "execution_count": 9,
   "metadata": {},
   "outputs": [],
   "source": [
    "#data type for participant number varied\n",
    "#casting all to integer\n",
    "df_cbc['SEQN'] = pd.to_numeric(df_cbc['SEQN'], downcast='integer')\n",
    "df_hscrp['SEQN'] = pd.to_numeric(df_hscrp['SEQN'], downcast='integer')\n",
    "df_trigly['SEQN'] = pd.to_numeric(df_trigly['SEQN'], downcast='integer')\n",
    "df_tchol['SEQN'] = pd.to_numeric(df_tchol['SEQN'], downcast='integer')\n",
    "df_ins['SEQN'] = pd.to_numeric(df_ins['SEQN'], downcast='integer')"
   ]
  },
  {
   "cell_type": "code",
   "execution_count": 10,
   "metadata": {},
   "outputs": [],
   "source": [
    "df_ins['LBDINSI'] = np.where((df_ins.LBDINLC == 1), 0, df_ins.LBDINSI)\n",
    "#LBDINLC is the comment code for insulin\n",
    "#If LBDINLC = 1, then the lab level is below lower detection limit\n",
    "#So replacing the insulin level (LBDINSI) with 0 in those cases"
   ]
  },
  {
   "cell_type": "code",
   "execution_count": 11,
   "metadata": {},
   "outputs": [],
   "source": [
    "df_ins = df_ins[['SEQN', 'LBDINSI']]\n",
    "#Removing unnecessary columns"
   ]
  },
  {
   "cell_type": "code",
   "execution_count": 12,
   "metadata": {},
   "outputs": [],
   "source": [
    "df_cbc = df_cbc[['SEQN', 'LBDLYMNO','LBDMONO','LBDEONO','LBDBANO','LBXHCT','LBXMCHSI','LBXPLTSI','LBXNRBC']]\n",
    "#removing unnecessary columns"
   ]
  },
  {
   "cell_type": "code",
   "execution_count": 13,
   "metadata": {},
   "outputs": [],
   "source": [
    "df_hscrp['LBXHSCRP'] = np.where((df_hscrp.LBDHRPLC == 1), 0, df_hscrp.LBXHSCRP)\n",
    "#LBDHRPLC is the comment code for the High-Sensitivity C-Reactive Protein Level\n",
    "#If LBDHRPLC = 1, then the lab level is below lower detection limit\n",
    "#So replacing the HSCRP level (LBXHSCRP) with 0 in those cases"
   ]
  },
  {
   "cell_type": "code",
   "execution_count": 14,
   "metadata": {},
   "outputs": [],
   "source": [
    "df_hscrp = df_hscrp[['SEQN', 'LBXHSCRP']]\n",
    "#removing comments column"
   ]
  },
  {
   "cell_type": "code",
   "execution_count": 15,
   "metadata": {},
   "outputs": [],
   "source": [
    "df_tchol = df_tchol[['SEQN','LBDTCSI']]\n",
    "#removing unnecessary columns"
   ]
  },
  {
   "cell_type": "code",
   "execution_count": 16,
   "metadata": {},
   "outputs": [],
   "source": [
    "df_trigly = df_trigly[['SEQN','LBDLDNSI']]\n",
    "#removing unnecessary columns"
   ]
  },
  {
   "cell_type": "code",
   "execution_count": 17,
   "metadata": {},
   "outputs": [
    {
     "name": "stdout",
     "output_type": "stream",
     "text": [
      "3100\n",
      "7500\n",
      "8400\n",
      "3100\n",
      "8400\n"
     ]
    }
   ],
   "source": [
    "print(str(df_trigly['SEQN'].count()))\n",
    "print(str(df_tchol['SEQN'].count()))\n",
    "print(str(df_hscrp['SEQN'].count()))\n",
    "print(str(df_ins['SEQN'].count()))\n",
    "print(str(df_cbc['SEQN'].count()))"
   ]
  },
  {
   "cell_type": "code",
   "execution_count": 18,
   "metadata": {},
   "outputs": [],
   "source": [
    "#merge the dataframes\n",
    "labs1=df_merge_col = pd.merge(df_cbc, df_hscrp,how=\"inner\",on='SEQN')\n",
    "labs2=df_merge_col = pd.merge(labs1, df_tchol,how=\"inner\",on='SEQN')\n",
    "labs3=pd.merge(labs2, df_trigly, how=\"left\", on=[\"SEQN\"])\n",
    "final_labs=df_merge_col = pd.merge(labs3, df_ins,how=\"left\",on='SEQN')"
   ]
  },
  {
   "cell_type": "code",
   "execution_count": 19,
   "metadata": {},
   "outputs": [
    {
     "data": {
      "text/html": [
       "<div>\n",
       "<style scoped>\n",
       "    .dataframe tbody tr th:only-of-type {\n",
       "        vertical-align: middle;\n",
       "    }\n",
       "\n",
       "    .dataframe tbody tr th {\n",
       "        vertical-align: top;\n",
       "    }\n",
       "\n",
       "    .dataframe thead th {\n",
       "        text-align: right;\n",
       "    }\n",
       "</style>\n",
       "<table border=\"1\" class=\"dataframe\">\n",
       "  <thead>\n",
       "    <tr style=\"text-align: right;\">\n",
       "      <th></th>\n",
       "      <th>SEQN</th>\n",
       "      <th>LBDLYMNO</th>\n",
       "      <th>LBDMONO</th>\n",
       "      <th>LBDEONO</th>\n",
       "      <th>LBDBANO</th>\n",
       "      <th>LBXHCT</th>\n",
       "      <th>LBXMCHSI</th>\n",
       "      <th>LBXPLTSI</th>\n",
       "      <th>LBXNRBC</th>\n",
       "      <th>LBXHSCRP</th>\n",
       "      <th>LBDTCSI</th>\n",
       "      <th>LBDLDNSI</th>\n",
       "      <th>LBDINSI</th>\n",
       "    </tr>\n",
       "  </thead>\n",
       "  <tbody>\n",
       "    <tr>\n",
       "      <th>23654</th>\n",
       "      <td>0</td>\n",
       "      <td>3.687825e-40</td>\n",
       "      <td>0.6</td>\n",
       "      <td>0.4</td>\n",
       "      <td>0.1</td>\n",
       "      <td>50.1</td>\n",
       "      <td>31.9</td>\n",
       "      <td>159</td>\n",
       "      <td>0.0</td>\n",
       "      <td>3.687825e-40</td>\n",
       "      <td>3.687825e-40</td>\n",
       "      <td>NaN</td>\n",
       "      <td>NaN</td>\n",
       "    </tr>\n",
       "    <tr>\n",
       "      <th>40523</th>\n",
       "      <td>0</td>\n",
       "      <td>3.687825e-40</td>\n",
       "      <td>0.6</td>\n",
       "      <td>0.4</td>\n",
       "      <td>0.1</td>\n",
       "      <td>50.1</td>\n",
       "      <td>31.9</td>\n",
       "      <td>159</td>\n",
       "      <td>0.0</td>\n",
       "      <td>3.687825e-40</td>\n",
       "      <td>3.687825e-40</td>\n",
       "      <td>NaN</td>\n",
       "      <td>NaN</td>\n",
       "    </tr>\n",
       "  </tbody>\n",
       "</table>\n",
       "</div>"
      ],
      "text/plain": [
       "       SEQN      LBDLYMNO  LBDMONO  LBDEONO  LBDBANO  LBXHCT  LBXMCHSI  \\\n",
       "23654     0  3.687825e-40      0.6      0.4      0.1    50.1      31.9   \n",
       "40523     0  3.687825e-40      0.6      0.4      0.1    50.1      31.9   \n",
       "\n",
       "       LBXPLTSI  LBXNRBC      LBXHSCRP       LBDTCSI  LBDLDNSI  LBDINSI  \n",
       "23654       159      0.0  3.687825e-40  3.687825e-40       NaN      NaN  \n",
       "40523       159      0.0  3.687825e-40  3.687825e-40       NaN      NaN  "
      ]
     },
     "execution_count": 19,
     "metadata": {},
     "output_type": "execute_result"
    }
   ],
   "source": [
    "final_labs.sample(2)"
   ]
  },
  {
   "cell_type": "code",
   "execution_count": 20,
   "metadata": {},
   "outputs": [],
   "source": [
    "#dropping duplicate rows\n",
    "final_labs = final_labs.drop_duplicates()\n",
    "\n",
    "#dropping one row of bad data\n",
    "final_labs = final_labs[final_labs['SEQN']>1]"
   ]
  },
  {
   "cell_type": "code",
   "execution_count": 21,
   "metadata": {},
   "outputs": [
    {
     "data": {
      "text/html": [
       "<div>\n",
       "<style scoped>\n",
       "    .dataframe tbody tr th:only-of-type {\n",
       "        vertical-align: middle;\n",
       "    }\n",
       "\n",
       "    .dataframe tbody tr th {\n",
       "        vertical-align: top;\n",
       "    }\n",
       "\n",
       "    .dataframe thead th {\n",
       "        text-align: right;\n",
       "    }\n",
       "</style>\n",
       "<table border=\"1\" class=\"dataframe\">\n",
       "  <thead>\n",
       "    <tr style=\"text-align: right;\">\n",
       "      <th></th>\n",
       "      <th>SEQN</th>\n",
       "      <th>LBDLYMNO</th>\n",
       "      <th>LBDMONO</th>\n",
       "      <th>LBDEONO</th>\n",
       "      <th>LBDBANO</th>\n",
       "      <th>LBXHCT</th>\n",
       "      <th>LBXMCHSI</th>\n",
       "      <th>LBXPLTSI</th>\n",
       "      <th>LBXNRBC</th>\n",
       "      <th>LBXHSCRP</th>\n",
       "      <th>LBDTCSI</th>\n",
       "      <th>LBDLDNSI</th>\n",
       "      <th>LBDINSI</th>\n",
       "    </tr>\n",
       "  </thead>\n",
       "  <tbody>\n",
       "    <tr>\n",
       "      <th>count</th>\n",
       "      <td>7435.000000</td>\n",
       "      <td>7435.000000</td>\n",
       "      <td>7435.000000</td>\n",
       "      <td>7435.000000</td>\n",
       "      <td>7435.000000</td>\n",
       "      <td>7435.000000</td>\n",
       "      <td>7435.000000</td>\n",
       "      <td>7435.000000</td>\n",
       "      <td>7435.000000</td>\n",
       "      <td>7435.000000</td>\n",
       "      <td>7435.000000</td>\n",
       "      <td>3036.000000</td>\n",
       "      <td>3036.000000</td>\n",
       "    </tr>\n",
       "    <tr>\n",
       "      <th>mean</th>\n",
       "      <td>98318.238870</td>\n",
       "      <td>2.192979</td>\n",
       "      <td>0.537256</td>\n",
       "      <td>0.194983</td>\n",
       "      <td>0.046711</td>\n",
       "      <td>38.218937</td>\n",
       "      <td>27.129496</td>\n",
       "      <td>233.941493</td>\n",
       "      <td>0.077310</td>\n",
       "      <td>3.235120</td>\n",
       "      <td>4.216005</td>\n",
       "      <td>2.612567</td>\n",
       "      <td>81.896542</td>\n",
       "    </tr>\n",
       "    <tr>\n",
       "      <th>std</th>\n",
       "      <td>2676.224626</td>\n",
       "      <td>4.343511</td>\n",
       "      <td>0.252280</td>\n",
       "      <td>0.183772</td>\n",
       "      <td>0.051955</td>\n",
       "      <td>11.431670</td>\n",
       "      <td>7.985828</td>\n",
       "      <td>91.183525</td>\n",
       "      <td>0.079886</td>\n",
       "      <td>7.241609</td>\n",
       "      <td>1.684662</td>\n",
       "      <td>1.151735</td>\n",
       "      <td>120.038987</td>\n",
       "    </tr>\n",
       "    <tr>\n",
       "      <th>min</th>\n",
       "      <td>93705.000000</td>\n",
       "      <td>0.000000</td>\n",
       "      <td>0.000000</td>\n",
       "      <td>0.000000</td>\n",
       "      <td>0.000000</td>\n",
       "      <td>0.000000</td>\n",
       "      <td>0.000000</td>\n",
       "      <td>0.000000</td>\n",
       "      <td>0.000000</td>\n",
       "      <td>0.000000</td>\n",
       "      <td>0.000000</td>\n",
       "      <td>0.000000</td>\n",
       "      <td>0.000000</td>\n",
       "    </tr>\n",
       "    <tr>\n",
       "      <th>25%</th>\n",
       "      <td>95999.500000</td>\n",
       "      <td>1.600000</td>\n",
       "      <td>0.400000</td>\n",
       "      <td>0.100000</td>\n",
       "      <td>0.000000</td>\n",
       "      <td>37.800000</td>\n",
       "      <td>27.600000</td>\n",
       "      <td>198.000000</td>\n",
       "      <td>0.000000</td>\n",
       "      <td>0.460000</td>\n",
       "      <td>3.700000</td>\n",
       "      <td>1.991000</td>\n",
       "      <td>33.750000</td>\n",
       "    </tr>\n",
       "    <tr>\n",
       "      <th>50%</th>\n",
       "      <td>98328.000000</td>\n",
       "      <td>2.100000</td>\n",
       "      <td>0.500000</td>\n",
       "      <td>0.200000</td>\n",
       "      <td>0.000000</td>\n",
       "      <td>40.700000</td>\n",
       "      <td>29.300000</td>\n",
       "      <td>239.000000</td>\n",
       "      <td>0.100000</td>\n",
       "      <td>1.230000</td>\n",
       "      <td>4.400000</td>\n",
       "      <td>2.612000</td>\n",
       "      <td>56.310000</td>\n",
       "    </tr>\n",
       "    <tr>\n",
       "      <th>75%</th>\n",
       "      <td>100632.500000</td>\n",
       "      <td>2.700000</td>\n",
       "      <td>0.700000</td>\n",
       "      <td>0.200000</td>\n",
       "      <td>0.100000</td>\n",
       "      <td>43.700000</td>\n",
       "      <td>30.700000</td>\n",
       "      <td>287.000000</td>\n",
       "      <td>0.100000</td>\n",
       "      <td>3.370000</td>\n",
       "      <td>5.170000</td>\n",
       "      <td>3.310000</td>\n",
       "      <td>94.485000</td>\n",
       "    </tr>\n",
       "    <tr>\n",
       "      <th>max</th>\n",
       "      <td>102956.000000</td>\n",
       "      <td>358.800000</td>\n",
       "      <td>6.700000</td>\n",
       "      <td>3.200000</td>\n",
       "      <td>0.500000</td>\n",
       "      <td>58.800000</td>\n",
       "      <td>39.200000</td>\n",
       "      <td>818.000000</td>\n",
       "      <td>1.500000</td>\n",
       "      <td>182.820000</td>\n",
       "      <td>11.530000</td>\n",
       "      <td>9.284000</td>\n",
       "      <td>2910.600000</td>\n",
       "    </tr>\n",
       "  </tbody>\n",
       "</table>\n",
       "</div>"
      ],
      "text/plain": [
       "                SEQN     LBDLYMNO      LBDMONO      LBDEONO      LBDBANO  \\\n",
       "count    7435.000000  7435.000000  7435.000000  7435.000000  7435.000000   \n",
       "mean    98318.238870     2.192979     0.537256     0.194983     0.046711   \n",
       "std      2676.224626     4.343511     0.252280     0.183772     0.051955   \n",
       "min     93705.000000     0.000000     0.000000     0.000000     0.000000   \n",
       "25%     95999.500000     1.600000     0.400000     0.100000     0.000000   \n",
       "50%     98328.000000     2.100000     0.500000     0.200000     0.000000   \n",
       "75%    100632.500000     2.700000     0.700000     0.200000     0.100000   \n",
       "max    102956.000000   358.800000     6.700000     3.200000     0.500000   \n",
       "\n",
       "            LBXHCT     LBXMCHSI     LBXPLTSI      LBXNRBC     LBXHSCRP  \\\n",
       "count  7435.000000  7435.000000  7435.000000  7435.000000  7435.000000   \n",
       "mean     38.218937    27.129496   233.941493     0.077310     3.235120   \n",
       "std      11.431670     7.985828    91.183525     0.079886     7.241609   \n",
       "min       0.000000     0.000000     0.000000     0.000000     0.000000   \n",
       "25%      37.800000    27.600000   198.000000     0.000000     0.460000   \n",
       "50%      40.700000    29.300000   239.000000     0.100000     1.230000   \n",
       "75%      43.700000    30.700000   287.000000     0.100000     3.370000   \n",
       "max      58.800000    39.200000   818.000000     1.500000   182.820000   \n",
       "\n",
       "           LBDTCSI     LBDLDNSI      LBDINSI  \n",
       "count  7435.000000  3036.000000  3036.000000  \n",
       "mean      4.216005     2.612567    81.896542  \n",
       "std       1.684662     1.151735   120.038987  \n",
       "min       0.000000     0.000000     0.000000  \n",
       "25%       3.700000     1.991000    33.750000  \n",
       "50%       4.400000     2.612000    56.310000  \n",
       "75%       5.170000     3.310000    94.485000  \n",
       "max      11.530000     9.284000  2910.600000  "
      ]
     },
     "execution_count": 21,
     "metadata": {},
     "output_type": "execute_result"
    }
   ],
   "source": [
    "final_labs.describe()"
   ]
  },
  {
   "cell_type": "code",
   "execution_count": 22,
   "metadata": {},
   "outputs": [
    {
     "data": {
      "text/plain": [
       "4399"
      ]
     },
     "execution_count": 22,
     "metadata": {},
     "output_type": "execute_result"
    }
   ],
   "source": [
    "final_labs[\"LBDLDNSI\"].isna().sum().sum()"
   ]
  },
  {
   "cell_type": "code",
   "execution_count": 23,
   "metadata": {},
   "outputs": [
    {
     "name": "stdout",
     "output_type": "stream",
     "text": [
      "SEQN 0\n",
      "LBDLYMNO 0\n",
      "LBDMONO 0\n",
      "LBDEONO 0\n",
      "LBDBANO 0\n",
      "LBXHCT 0\n",
      "LBXMCHSI 0\n",
      "LBXPLTSI 0\n",
      "LBXNRBC 0\n",
      "LBXHSCRP 0\n",
      "LBDTCSI 0\n",
      "LBDLDNSI 4399\n",
      "LBDINSI 4399\n"
     ]
    }
   ],
   "source": [
    "#Count of NAs by column\n",
    "for x in final_labs.columns:\n",
    "    y= final_labs[x].isna().sum().sum()\n",
    "    print (x,y)"
   ]
  },
  {
   "cell_type": "code",
   "execution_count": 24,
   "metadata": {},
   "outputs": [],
   "source": [
    "%matplotlib inline\n",
    "import matplotlib.pyplot as plt"
   ]
  },
  {
   "cell_type": "code",
   "execution_count": 25,
   "metadata": {},
   "outputs": [
    {
     "data": {
      "text/plain": [
       "array([[<AxesSubplot:title={'center':'LBDMONO'}>]], dtype=object)"
      ]
     },
     "execution_count": 25,
     "metadata": {},
     "output_type": "execute_result"
    },
    {
     "data": {
      "image/png": "[encoded data removed]",
      "text/plain": [
       "<Figure size 432x288 with 1 Axes>"
      ]
     },
     "metadata": {
      "needs_background": "light"
     },
     "output_type": "display_data"
    }
   ],
   "source": [
    "final_labs.hist(column='LBDMONO', bins=25)"
   ]
  },
  {
   "cell_type": "code",
   "execution_count": 26,
   "metadata": {},
   "outputs": [],
   "source": [
    "#EDA on Dietary Supplements data"
   ]
  },
  {
   "cell_type": "code",
   "execution_count": 27,
   "metadata": {},
   "outputs": [],
   "source": [
    "filename = \"2018_supplements.csv\""
   ]
  },
  {
   "cell_type": "code",
   "execution_count": 28,
   "metadata": {},
   "outputs": [],
   "source": [
    "df_supplements=spark.read.csv(filename,  inferSchema=True, header = True)"
   ]
  },
  {
   "cell_type": "code",
   "execution_count": 29,
   "metadata": {},
   "outputs": [
    {
     "name": "stdout",
     "output_type": "stream",
     "text": [
      "+-------+--------+--------+------+--------+--------+--------+--------+--------+--------+--------+--------+--------+--------+--------+--------+------+-------+-------+--------+-------+------+--------+-------+--------+------+------+------+--------+--------+--------+--------+--------+--------+--------+--------+--------+--------+--------+\n",
      "|   SEQN|DSDCOUNT|DSDANCNT|DSD010|DSD010AN|DSQTKCAL|DSQTPROT|DSQTCARB|DSQTSUGR|DSQTFIBE|DSQTTFAT|DSQTSFAT|DSQTMFAT|DSQTPFAT|DSQTCHOL|DSQTLYCO|DSQTLZ|DSQTVB1|DSQTVB2|DSQTNIAC|DSQTVB6|DSQTFA|DSQTFDFE|DSQTCHL|DSQTVB12|DSQTVC|DSQTVK|DSQTVD|DSQTCALC|DSQTPHOS|DSQTMAGN|DSQTIRON|DSQTZINC|DSQTCOPP|DSQTSODI|DSQTPOTA|DSQTSELE|DSQTCAFF|DSQTIODI|\n",
      "+-------+--------+--------+------+--------+--------+--------+--------+--------+--------+--------+--------+--------+--------+--------+--------+------+-------+-------+--------+-------+------+--------+-------+--------+------+------+------+--------+--------+--------+--------+--------+--------+--------+--------+--------+--------+--------+\n",
      "|93703.0|     1.0|     0.0|   1.0|       2|     8.0|     0.0|     2.0|     0.0|     0.0|     0.0|     0.0|     0.0|     0.0|     0.0|       0|     0|    0.0|    0.0|     0.0|    1.0|   167|     284|    0.0|     3.0|  20.0|   0.0|   7.5|     0.0|     0.0|     0.0|     0.0|    1.35|     0.0|     0.0|     0.0|     0.0|       0|    21.0|\n",
      "|93704.0|     0.0|     0.0|   2.0|       2|     0.0|     0.0|     0.0|     0.0|     0.0|     0.0|     0.0|     0.0|     0.0|     0.0|       0|     0|    0.0|    0.0|     0.0|    0.0|     0|       0|    0.0|     0.0|   0.0|   0.0|   0.0|     0.0|     0.0|     0.0|     0.0|     0.0|     0.0|     0.0|     0.0|     0.0|       0|     0.0|\n",
      "+-------+--------+--------+------+--------+--------+--------+--------+--------+--------+--------+--------+--------+--------+--------+--------+------+-------+-------+--------+-------+------+--------+-------+--------+------+------+------+--------+--------+--------+--------+--------+--------+--------+--------+--------+--------+--------+\n",
      "only showing top 2 rows\n",
      "\n"
     ]
    }
   ],
   "source": [
    "df_supplements.show(2)"
   ]
  },
  {
   "cell_type": "code",
   "execution_count": 30,
   "metadata": {},
   "outputs": [],
   "source": [
    "#drop columns that will not be used\n",
    "dropCols=(\"DSQTKCAL\",\"DSQTPROT\",\"DSQTCARB\",\"DSQTSUGR\",\"DSQTFIBE\",\"DSQTTFAT\",\"DSQTSFAT\",\"DSQTMFAT\",\"DSQTPFAT\",\"DSQTCHOL\",\"DSQTCHL\",\"DSQTCAFF\")\n",
    "df_supplements=df_supplements.drop(*dropCols)"
   ]
  },
  {
   "cell_type": "code",
   "execution_count": 31,
   "metadata": {},
   "outputs": [
    {
     "data": {
      "text/plain": [
       "['SEQN',\n",
       " 'DSDCOUNT',\n",
       " 'DSDANCNT',\n",
       " 'DSD010',\n",
       " 'DSD010AN',\n",
       " 'DSQTLYCO',\n",
       " 'DSQTLZ',\n",
       " 'DSQTVB1',\n",
       " 'DSQTVB2',\n",
       " 'DSQTNIAC',\n",
       " 'DSQTVB6',\n",
       " 'DSQTFA',\n",
       " 'DSQTFDFE',\n",
       " 'DSQTVB12',\n",
       " 'DSQTVC',\n",
       " 'DSQTVK',\n",
       " 'DSQTVD',\n",
       " 'DSQTCALC',\n",
       " 'DSQTPHOS',\n",
       " 'DSQTMAGN',\n",
       " 'DSQTIRON',\n",
       " 'DSQTZINC',\n",
       " 'DSQTCOPP',\n",
       " 'DSQTSODI',\n",
       " 'DSQTPOTA',\n",
       " 'DSQTSELE',\n",
       " 'DSQTIODI']"
      ]
     },
     "execution_count": 31,
     "metadata": {},
     "output_type": "execute_result"
    }
   ],
   "source": [
    "df_supplements.columns"
   ]
  },
  {
   "cell_type": "code",
   "execution_count": 32,
   "metadata": {},
   "outputs": [
    {
     "name": "stdout",
     "output_type": "stream",
     "text": [
      "+-------+--------+--------+------+--------+--------+------+-------+-------+--------+-------+------+--------+--------+------+------+------+--------+--------+--------+--------+--------+--------+--------+--------+--------+--------+\n",
      "|   SEQN|DSDCOUNT|DSDANCNT|DSD010|DSD010AN|DSQTLYCO|DSQTLZ|DSQTVB1|DSQTVB2|DSQTNIAC|DSQTVB6|DSQTFA|DSQTFDFE|DSQTVB12|DSQTVC|DSQTVK|DSQTVD|DSQTCALC|DSQTPHOS|DSQTMAGN|DSQTIRON|DSQTZINC|DSQTCOPP|DSQTSODI|DSQTPOTA|DSQTSELE|DSQTIODI|\n",
      "+-------+--------+--------+------+--------+--------+------+-------+-------+--------+-------+------+--------+--------+------+------+------+--------+--------+--------+--------+--------+--------+--------+--------+--------+--------+\n",
      "|93703.0|     1.0|     0.0|   1.0|       2|       0|     0|    0.0|    0.0|     0.0|    1.0|   167|     284|     3.0|  20.0|   0.0|   7.5|     0.0|     0.0|     0.0|     0.0|    1.35|     0.0|     0.0|     0.0|     0.0|    21.0|\n",
      "|93704.0|     0.0|     0.0|   2.0|       2|       0|     0|    0.0|    0.0|     0.0|    0.0|     0|       0|     0.0|   0.0|   0.0|   0.0|     0.0|     0.0|     0.0|     0.0|     0.0|     0.0|     0.0|     0.0|     0.0|     0.0|\n",
      "+-------+--------+--------+------+--------+--------+------+-------+-------+--------+-------+------+--------+--------+------+------+------+--------+--------+--------+--------+--------+--------+--------+--------+--------+--------+\n",
      "only showing top 2 rows\n",
      "\n"
     ]
    }
   ],
   "source": [
    "df_supplements.show(2)"
   ]
  },
  {
   "cell_type": "code",
   "execution_count": 33,
   "metadata": {},
   "outputs": [
    {
     "name": "stdout",
     "output_type": "stream",
     "text": [
      "Count of rows:9300\n",
      "Count of distinct rows:9255\n"
     ]
    }
   ],
   "source": [
    "#Get row count and distinct rows count\n",
    "print(f'Count of rows:{df_supplements.count()}')\n",
    "print(f'Count of distinct rows:{df_supplements.distinct().count()}')\n"
   ]
  },
  {
   "cell_type": "code",
   "execution_count": 34,
   "metadata": {},
   "outputs": [],
   "source": [
    "#delete duplicates\n",
    "df_supplements=df_supplements.dropDuplicates()"
   ]
  },
  {
   "cell_type": "code",
   "execution_count": 35,
   "metadata": {},
   "outputs": [],
   "source": [
    "#delete row with bad data\n",
    "df_supplements=df_supplements.where(\"SEQN>1\")"
   ]
  },
  {
   "cell_type": "code",
   "execution_count": 36,
   "metadata": {},
   "outputs": [
    {
     "name": "stdout",
     "output_type": "stream",
     "text": [
      "Count of rows:9254\n",
      "Count of disctinct rows:9254\n"
     ]
    }
   ],
   "source": [
    "#Updated row count and distinct rows count\n",
    "\n",
    "print(f'Count of rows:{df_supplements.count()}')\n",
    "print(f'Count of disctinct rows:{df_supplements.distinct().count()}')"
   ]
  },
  {
   "cell_type": "code",
   "execution_count": 37,
   "metadata": {},
   "outputs": [
    {
     "name": "stdout",
     "output_type": "stream",
     "text": [
      "Count of columns:27\n"
     ]
    }
   ],
   "source": [
    "#Number of columns\n",
    "print(f'Count of columns:{len(df_supplements.columns)}')\n"
   ]
  },
  {
   "cell_type": "code",
   "execution_count": 38,
   "metadata": {},
   "outputs": [],
   "source": [
    "#Descriptive statisticts on some predictor variables\n",
    "desc_supplements=df_supplements.describe(['DSQTNIAC','DSD010AN','DSQTLYCO'])"
   ]
  },
  {
   "cell_type": "code",
   "execution_count": 39,
   "metadata": {},
   "outputs": [],
   "source": [
    "#convert supplements to pandas\n",
    "df_supplements = df_supplements.toPandas()\n"
   ]
  },
  {
   "cell_type": "code",
   "execution_count": 40,
   "metadata": {},
   "outputs": [
    {
     "data": {
      "text/html": [
       "<div>\n",
       "<style scoped>\n",
       "    .dataframe tbody tr th:only-of-type {\n",
       "        vertical-align: middle;\n",
       "    }\n",
       "\n",
       "    .dataframe tbody tr th {\n",
       "        vertical-align: top;\n",
       "    }\n",
       "\n",
       "    .dataframe thead th {\n",
       "        text-align: right;\n",
       "    }\n",
       "</style>\n",
       "<table border=\"1\" class=\"dataframe\">\n",
       "  <thead>\n",
       "    <tr style=\"text-align: right;\">\n",
       "      <th></th>\n",
       "      <th>SEQN</th>\n",
       "      <th>DSDCOUNT</th>\n",
       "      <th>DSDANCNT</th>\n",
       "      <th>DSD010</th>\n",
       "      <th>DSD010AN</th>\n",
       "      <th>DSQTLYCO</th>\n",
       "      <th>DSQTLZ</th>\n",
       "      <th>DSQTVB1</th>\n",
       "      <th>DSQTVB2</th>\n",
       "      <th>DSQTNIAC</th>\n",
       "      <th>...</th>\n",
       "      <th>DSQTCALC</th>\n",
       "      <th>DSQTPHOS</th>\n",
       "      <th>DSQTMAGN</th>\n",
       "      <th>DSQTIRON</th>\n",
       "      <th>DSQTZINC</th>\n",
       "      <th>DSQTCOPP</th>\n",
       "      <th>DSQTSODI</th>\n",
       "      <th>DSQTPOTA</th>\n",
       "      <th>DSQTSELE</th>\n",
       "      <th>DSQTIODI</th>\n",
       "    </tr>\n",
       "  </thead>\n",
       "  <tbody>\n",
       "    <tr>\n",
       "      <th>count</th>\n",
       "      <td>9254.000000</td>\n",
       "      <td>9254.000000</td>\n",
       "      <td>9254.000000</td>\n",
       "      <td>9254.000000</td>\n",
       "      <td>9254.000000</td>\n",
       "      <td>9254.000000</td>\n",
       "      <td>9254.000000</td>\n",
       "      <td>9254.000000</td>\n",
       "      <td>9254.000000</td>\n",
       "      <td>9254.000000</td>\n",
       "      <td>...</td>\n",
       "      <td>9254.000000</td>\n",
       "      <td>9254.000000</td>\n",
       "      <td>9254.000000</td>\n",
       "      <td>9254.000000</td>\n",
       "      <td>9254.000000</td>\n",
       "      <td>9254.000000</td>\n",
       "      <td>9254.000000</td>\n",
       "      <td>9254.000000</td>\n",
       "      <td>9254.000000</td>\n",
       "      <td>9254.000000</td>\n",
       "    </tr>\n",
       "    <tr>\n",
       "      <th>mean</th>\n",
       "      <td>98329.500000</td>\n",
       "      <td>1.062459</td>\n",
       "      <td>0.143614</td>\n",
       "      <td>1.550032</td>\n",
       "      <td>1.910741</td>\n",
       "      <td>37.749081</td>\n",
       "      <td>130.370759</td>\n",
       "      <td>1.609584</td>\n",
       "      <td>1.055003</td>\n",
       "      <td>4.882905</td>\n",
       "      <td>...</td>\n",
       "      <td>71.854936</td>\n",
       "      <td>2.955162</td>\n",
       "      <td>16.418875</td>\n",
       "      <td>2.328525</td>\n",
       "      <td>2.406228</td>\n",
       "      <td>0.152068</td>\n",
       "      <td>1.678647</td>\n",
       "      <td>8.653152</td>\n",
       "      <td>6.684596</td>\n",
       "      <td>19.587855</td>\n",
       "    </tr>\n",
       "    <tr>\n",
       "      <th>std</th>\n",
       "      <td>2671.544029</td>\n",
       "      <td>3.154988</td>\n",
       "      <td>2.130259</td>\n",
       "      <td>0.536200</td>\n",
       "      <td>0.325486</td>\n",
       "      <td>447.310995</td>\n",
       "      <td>1456.294804</td>\n",
       "      <td>10.711743</td>\n",
       "      <td>7.570906</td>\n",
       "      <td>31.587021</td>\n",
       "      <td>...</td>\n",
       "      <td>221.968504</td>\n",
       "      <td>20.148543</td>\n",
       "      <td>79.354650</td>\n",
       "      <td>11.007427</td>\n",
       "      <td>8.788139</td>\n",
       "      <td>0.492060</td>\n",
       "      <td>20.399114</td>\n",
       "      <td>86.958049</td>\n",
       "      <td>32.930787</td>\n",
       "      <td>155.927544</td>\n",
       "    </tr>\n",
       "    <tr>\n",
       "      <th>min</th>\n",
       "      <td>93703.000000</td>\n",
       "      <td>0.000000</td>\n",
       "      <td>0.000000</td>\n",
       "      <td>1.000000</td>\n",
       "      <td>1.000000</td>\n",
       "      <td>0.000000</td>\n",
       "      <td>0.000000</td>\n",
       "      <td>0.000000</td>\n",
       "      <td>0.000000</td>\n",
       "      <td>0.000000</td>\n",
       "      <td>...</td>\n",
       "      <td>0.000000</td>\n",
       "      <td>0.000000</td>\n",
       "      <td>0.000000</td>\n",
       "      <td>0.000000</td>\n",
       "      <td>0.000000</td>\n",
       "      <td>0.000000</td>\n",
       "      <td>0.000000</td>\n",
       "      <td>0.000000</td>\n",
       "      <td>0.000000</td>\n",
       "      <td>0.000000</td>\n",
       "    </tr>\n",
       "    <tr>\n",
       "      <th>25%</th>\n",
       "      <td>96016.250000</td>\n",
       "      <td>0.000000</td>\n",
       "      <td>0.000000</td>\n",
       "      <td>1.000000</td>\n",
       "      <td>2.000000</td>\n",
       "      <td>0.000000</td>\n",
       "      <td>0.000000</td>\n",
       "      <td>0.000000</td>\n",
       "      <td>0.000000</td>\n",
       "      <td>0.000000</td>\n",
       "      <td>...</td>\n",
       "      <td>0.000000</td>\n",
       "      <td>0.000000</td>\n",
       "      <td>0.000000</td>\n",
       "      <td>0.000000</td>\n",
       "      <td>0.000000</td>\n",
       "      <td>0.000000</td>\n",
       "      <td>0.000000</td>\n",
       "      <td>0.000000</td>\n",
       "      <td>0.000000</td>\n",
       "      <td>0.000000</td>\n",
       "    </tr>\n",
       "    <tr>\n",
       "      <th>50%</th>\n",
       "      <td>98329.500000</td>\n",
       "      <td>0.000000</td>\n",
       "      <td>0.000000</td>\n",
       "      <td>2.000000</td>\n",
       "      <td>2.000000</td>\n",
       "      <td>0.000000</td>\n",
       "      <td>0.000000</td>\n",
       "      <td>0.000000</td>\n",
       "      <td>0.000000</td>\n",
       "      <td>0.000000</td>\n",
       "      <td>...</td>\n",
       "      <td>0.000000</td>\n",
       "      <td>0.000000</td>\n",
       "      <td>0.000000</td>\n",
       "      <td>0.000000</td>\n",
       "      <td>0.000000</td>\n",
       "      <td>0.000000</td>\n",
       "      <td>0.000000</td>\n",
       "      <td>0.000000</td>\n",
       "      <td>0.000000</td>\n",
       "      <td>0.000000</td>\n",
       "    </tr>\n",
       "    <tr>\n",
       "      <th>75%</th>\n",
       "      <td>100642.750000</td>\n",
       "      <td>1.000000</td>\n",
       "      <td>0.000000</td>\n",
       "      <td>2.000000</td>\n",
       "      <td>2.000000</td>\n",
       "      <td>0.000000</td>\n",
       "      <td>0.000000</td>\n",
       "      <td>0.000000</td>\n",
       "      <td>0.000000</td>\n",
       "      <td>0.000000</td>\n",
       "      <td>...</td>\n",
       "      <td>7.330000</td>\n",
       "      <td>0.000000</td>\n",
       "      <td>0.000000</td>\n",
       "      <td>0.000000</td>\n",
       "      <td>0.000000</td>\n",
       "      <td>0.000000</td>\n",
       "      <td>0.000000</td>\n",
       "      <td>0.000000</td>\n",
       "      <td>0.000000</td>\n",
       "      <td>0.000000</td>\n",
       "    </tr>\n",
       "    <tr>\n",
       "      <th>max</th>\n",
       "      <td>102956.000000</td>\n",
       "      <td>99.000000</td>\n",
       "      <td>99.000000</td>\n",
       "      <td>9.000000</td>\n",
       "      <td>9.000000</td>\n",
       "      <td>30000.000000</td>\n",
       "      <td>48000.000000</td>\n",
       "      <td>251.500000</td>\n",
       "      <td>401.700000</td>\n",
       "      <td>1520.000000</td>\n",
       "      <td>...</td>\n",
       "      <td>3750.000000</td>\n",
       "      <td>1200.000000</td>\n",
       "      <td>3390.000000</td>\n",
       "      <td>260.000000</td>\n",
       "      <td>450.000000</td>\n",
       "      <td>6.100000</td>\n",
       "      <td>1500.000000</td>\n",
       "      <td>6750.000000</td>\n",
       "      <td>2100.000000</td>\n",
       "      <td>12500.000000</td>\n",
       "    </tr>\n",
       "  </tbody>\n",
       "</table>\n",
       "<p>8 rows × 27 columns</p>\n",
       "</div>"
      ],
      "text/plain": [
       "                SEQN     DSDCOUNT     DSDANCNT       DSD010     DSD010AN  \\\n",
       "count    9254.000000  9254.000000  9254.000000  9254.000000  9254.000000   \n",
       "mean    98329.500000     1.062459     0.143614     1.550032     1.910741   \n",
       "std      2671.544029     3.154988     2.130259     0.536200     0.325486   \n",
       "min     93703.000000     0.000000     0.000000     1.000000     1.000000   \n",
       "25%     96016.250000     0.000000     0.000000     1.000000     2.000000   \n",
       "50%     98329.500000     0.000000     0.000000     2.000000     2.000000   \n",
       "75%    100642.750000     1.000000     0.000000     2.000000     2.000000   \n",
       "max    102956.000000    99.000000    99.000000     9.000000     9.000000   \n",
       "\n",
       "           DSQTLYCO        DSQTLZ      DSQTVB1      DSQTVB2     DSQTNIAC  ...  \\\n",
       "count   9254.000000   9254.000000  9254.000000  9254.000000  9254.000000  ...   \n",
       "mean      37.749081    130.370759     1.609584     1.055003     4.882905  ...   \n",
       "std      447.310995   1456.294804    10.711743     7.570906    31.587021  ...   \n",
       "min        0.000000      0.000000     0.000000     0.000000     0.000000  ...   \n",
       "25%        0.000000      0.000000     0.000000     0.000000     0.000000  ...   \n",
       "50%        0.000000      0.000000     0.000000     0.000000     0.000000  ...   \n",
       "75%        0.000000      0.000000     0.000000     0.000000     0.000000  ...   \n",
       "max    30000.000000  48000.000000   251.500000   401.700000  1520.000000  ...   \n",
       "\n",
       "          DSQTCALC     DSQTPHOS     DSQTMAGN     DSQTIRON     DSQTZINC  \\\n",
       "count  9254.000000  9254.000000  9254.000000  9254.000000  9254.000000   \n",
       "mean     71.854936     2.955162    16.418875     2.328525     2.406228   \n",
       "std     221.968504    20.148543    79.354650    11.007427     8.788139   \n",
       "min       0.000000     0.000000     0.000000     0.000000     0.000000   \n",
       "25%       0.000000     0.000000     0.000000     0.000000     0.000000   \n",
       "50%       0.000000     0.000000     0.000000     0.000000     0.000000   \n",
       "75%       7.330000     0.000000     0.000000     0.000000     0.000000   \n",
       "max    3750.000000  1200.000000  3390.000000   260.000000   450.000000   \n",
       "\n",
       "          DSQTCOPP     DSQTSODI     DSQTPOTA     DSQTSELE      DSQTIODI  \n",
       "count  9254.000000  9254.000000  9254.000000  9254.000000   9254.000000  \n",
       "mean      0.152068     1.678647     8.653152     6.684596     19.587855  \n",
       "std       0.492060    20.399114    86.958049    32.930787    155.927544  \n",
       "min       0.000000     0.000000     0.000000     0.000000      0.000000  \n",
       "25%       0.000000     0.000000     0.000000     0.000000      0.000000  \n",
       "50%       0.000000     0.000000     0.000000     0.000000      0.000000  \n",
       "75%       0.000000     0.000000     0.000000     0.000000      0.000000  \n",
       "max       6.100000  1500.000000  6750.000000  2100.000000  12500.000000  \n",
       "\n",
       "[8 rows x 27 columns]"
      ]
     },
     "execution_count": 40,
     "metadata": {},
     "output_type": "execute_result"
    }
   ],
   "source": [
    "df_supplements.describe()"
   ]
  },
  {
   "cell_type": "code",
   "execution_count": 41,
   "metadata": {},
   "outputs": [
    {
     "data": {
      "text/plain": [
       "<AxesSubplot:>"
      ]
     },
     "execution_count": 41,
     "metadata": {},
     "output_type": "execute_result"
    },
    {
     "data": {
      "image/png": "[encoded data removed]",
      "text/plain": [
       "<Figure size 432x288 with 1 Axes>"
      ]
     },
     "metadata": {
      "needs_background": "light"
     },
     "output_type": "display_data"
    }
   ],
   "source": [
    "df_supplements[\"DSQTNIAC\"].plot()"
   ]
  },
  {
   "cell_type": "code",
   "execution_count": 42,
   "metadata": {},
   "outputs": [
    {
     "data": {
      "text/plain": [
       "<AxesSubplot:>"
      ]
     },
     "execution_count": 42,
     "metadata": {},
     "output_type": "execute_result"
    },
    {
     "data": {
      "image/png": "[encoded data removed]",
      "text/plain": [
       "<Figure size 432x288 with 1 Axes>"
      ]
     },
     "metadata": {
      "needs_background": "light"
     },
     "output_type": "display_data"
    }
   ],
   "source": [
    "df_supplements[\"DSQTLYCO\"].plot()"
   ]
  },
  {
   "cell_type": "code",
   "execution_count": 43,
   "metadata": {},
   "outputs": [],
   "source": [
    "#identifying categorical variables from supplements dataset\n",
    "sup_cat=['DSD010','DSD010AN']"
   ]
  },
  {
   "cell_type": "code",
   "execution_count": 44,
   "metadata": {},
   "outputs": [],
   "source": [
    "#Medical Questionnaire Dataset\n",
    "\n",
    "mcq = 'MCQ_J.csv'\n",
    "df_mcq = pd.read_csv(mcq)\n",
    "df_mcq['SEQN'] = pd.to_numeric(df_mcq['SEQN'], downcast='integer')"
   ]
  },
  {
   "cell_type": "code",
   "execution_count": 45,
   "metadata": {},
   "outputs": [
    {
     "data": {
      "text/plain": [
       "8900"
      ]
     },
     "execution_count": 45,
     "metadata": {},
     "output_type": "execute_result"
    }
   ],
   "source": [
    "df_mcq['SEQN'].count()"
   ]
  },
  {
   "cell_type": "code",
   "execution_count": 46,
   "metadata": {},
   "outputs": [],
   "source": [
    "df_mcq = spark.createDataFrame(df_mcq)\n",
    "\n",
    "to_drop = ('MCQ010','MCD093','MCQ149','MCQ151','RHD018','MCQ180N','MCQ180A','MCD180D',\n",
    "           'MCD180E','MCD180F','MCD180M','MCD180G','MCQ160K','MCD180K','MCD180L',\n",
    "           'MCQ515','MCQ570','MCQ106','MCD240A','MCD240B','MCD240C','MCQ230D','MCD180C',\n",
    "           'MCQ300B','AGQ030', 'OS230', 'MCD180A', 'MCD180N', 'MCD180B', 'MCQ206')\n",
    "\n",
    "df_mcq = df_mcq.drop(*to_drop)\n",
    "#dropping unnecessary columns"
   ]
  },
  {
   "cell_type": "code",
   "execution_count": 47,
   "metadata": {},
   "outputs": [
    {
     "data": {
      "text/plain": [
       "['SEQN',\n",
       " 'MCQ025',\n",
       " 'MCQ035',\n",
       " 'MCQ040',\n",
       " 'MCQ050',\n",
       " 'MCQ053',\n",
       " 'MCQ080',\n",
       " 'MCQ092',\n",
       " 'MCQ160A',\n",
       " 'MCQ195',\n",
       " 'MCQ160N',\n",
       " 'MCQ160B',\n",
       " 'MCQ160C',\n",
       " 'MCQ160D',\n",
       " 'MCQ160E',\n",
       " 'MCQ160F',\n",
       " 'MCQ160M',\n",
       " 'MCQ170M',\n",
       " 'MCQ160G',\n",
       " 'MCQ170K',\n",
       " 'MCQ160O',\n",
       " 'MCQ160L',\n",
       " 'MCQ170L',\n",
       " 'MCQ500',\n",
       " 'MCQ510A',\n",
       " 'MCQ510B',\n",
       " 'MCQ510C',\n",
       " 'MCQ510D',\n",
       " 'MCQ510E',\n",
       " 'MCQ510F',\n",
       " 'MCQ520',\n",
       " 'MCQ530',\n",
       " 'MCQ540',\n",
       " 'MCQ550',\n",
       " 'MCQ560',\n",
       " 'MCQ203',\n",
       " 'MCQ220',\n",
       " 'MCQ230A',\n",
       " 'MCQ230B',\n",
       " 'MCQ230C',\n",
       " 'MCQ300C',\n",
       " 'MCQ300A',\n",
       " 'MCQ366A',\n",
       " 'MCQ366B',\n",
       " 'MCQ366C',\n",
       " 'MCQ366D',\n",
       " 'MCQ371A',\n",
       " 'MCQ371B',\n",
       " 'MCQ371C',\n",
       " 'MCQ371D',\n",
       " 'OSQ230']"
      ]
     },
     "execution_count": 47,
     "metadata": {},
     "output_type": "execute_result"
    }
   ],
   "source": [
    "df_mcq.columns"
   ]
  },
  {
   "cell_type": "code",
   "execution_count": 48,
   "metadata": {},
   "outputs": [],
   "source": [
    "#convert mcq to pandas\n",
    "df_mcq = df_mcq.toPandas()"
   ]
  },
  {
   "cell_type": "code",
   "execution_count": 49,
   "metadata": {},
   "outputs": [],
   "source": [
    "#identifying categorical variables from the medical questionnaire data\n",
    "\n",
    "mcq_cat = [x for x in df_mcq.columns if x!='SEQN']\n",
    "#these are all categorical variables except SEQN, which is the identifier"
   ]
  },
  {
   "cell_type": "code",
   "execution_count": 50,
   "metadata": {},
   "outputs": [],
   "source": [
    "#Demographics Dataset\n",
    "\n",
    "demo = 'DEMO_J.csv'\n",
    "df_demo = pd.read_csv(demo)\n",
    "df_demo['SEQN'] = pd.to_numeric(df_demo['SEQN'], downcast='integer')"
   ]
  },
  {
   "cell_type": "code",
   "execution_count": 51,
   "metadata": {},
   "outputs": [],
   "source": [
    "df_demo = df_demo[['SEQN', 'RIAGENDR', 'RIDAGEYR', 'RIDRETH3','DMQMILIZ', \n",
    "            'DMQADFC', 'DMDBORN4', 'DMDCITZN', 'DMDEDUC3', 'DMDEDUC2', \n",
    "            'DMDMARTL', 'RIDEXPRG', 'DMDHHSIZ', 'DMDFMSIZ','INDFMPIR']]\n",
    "\n",
    "#keeping only relevant columns"
   ]
  },
  {
   "cell_type": "code",
   "execution_count": 52,
   "metadata": {},
   "outputs": [],
   "source": [
    "#Identifying categorical variables from demographics dataset\n",
    "demo_cat = ['RIAGENDR','RIDRETH3', 'DMQMILIZ', 'DMQADFC', 'DMDBORN4', \n",
    "                        'DMDCITZN', 'DMDEDUC3', 'DMDEDUC2', 'DMDMARTL', 'RIDEXPRG']"
   ]
  },
  {
   "cell_type": "code",
   "execution_count": 53,
   "metadata": {},
   "outputs": [
    {
     "data": {
      "text/html": [
       "<div>\n",
       "<style scoped>\n",
       "    .dataframe tbody tr th:only-of-type {\n",
       "        vertical-align: middle;\n",
       "    }\n",
       "\n",
       "    .dataframe tbody tr th {\n",
       "        vertical-align: top;\n",
       "    }\n",
       "\n",
       "    .dataframe thead th {\n",
       "        text-align: right;\n",
       "    }\n",
       "</style>\n",
       "<table border=\"1\" class=\"dataframe\">\n",
       "  <thead>\n",
       "    <tr style=\"text-align: right;\">\n",
       "      <th></th>\n",
       "      <th>SEQN</th>\n",
       "      <th>RIAGENDR</th>\n",
       "      <th>RIDAGEYR</th>\n",
       "      <th>RIDRETH3</th>\n",
       "      <th>DMQMILIZ</th>\n",
       "      <th>DMQADFC</th>\n",
       "      <th>DMDBORN4</th>\n",
       "      <th>DMDCITZN</th>\n",
       "      <th>DMDEDUC3</th>\n",
       "      <th>DMDEDUC2</th>\n",
       "      <th>DMDMARTL</th>\n",
       "      <th>RIDEXPRG</th>\n",
       "      <th>DMDHHSIZ</th>\n",
       "      <th>DMDFMSIZ</th>\n",
       "      <th>INDFMPIR</th>\n",
       "    </tr>\n",
       "  </thead>\n",
       "  <tbody>\n",
       "    <tr>\n",
       "      <th>0</th>\n",
       "      <td>93703</td>\n",
       "      <td>2.0</td>\n",
       "      <td>2.0</td>\n",
       "      <td>6</td>\n",
       "      <td>0</td>\n",
       "      <td>0</td>\n",
       "      <td>1</td>\n",
       "      <td>1</td>\n",
       "      <td>0</td>\n",
       "      <td>0</td>\n",
       "      <td>0</td>\n",
       "      <td>0</td>\n",
       "      <td>5</td>\n",
       "      <td>5</td>\n",
       "      <td>5.00</td>\n",
       "    </tr>\n",
       "    <tr>\n",
       "      <th>1</th>\n",
       "      <td>93704</td>\n",
       "      <td>1.0</td>\n",
       "      <td>2.0</td>\n",
       "      <td>3</td>\n",
       "      <td>0</td>\n",
       "      <td>0</td>\n",
       "      <td>1</td>\n",
       "      <td>1</td>\n",
       "      <td>0</td>\n",
       "      <td>0</td>\n",
       "      <td>0</td>\n",
       "      <td>0</td>\n",
       "      <td>4</td>\n",
       "      <td>4</td>\n",
       "      <td>5.00</td>\n",
       "    </tr>\n",
       "    <tr>\n",
       "      <th>2</th>\n",
       "      <td>93705</td>\n",
       "      <td>2.0</td>\n",
       "      <td>66.0</td>\n",
       "      <td>4</td>\n",
       "      <td>2</td>\n",
       "      <td>0</td>\n",
       "      <td>1</td>\n",
       "      <td>1</td>\n",
       "      <td>0</td>\n",
       "      <td>2</td>\n",
       "      <td>3</td>\n",
       "      <td>0</td>\n",
       "      <td>1</td>\n",
       "      <td>1</td>\n",
       "      <td>0.82</td>\n",
       "    </tr>\n",
       "    <tr>\n",
       "      <th>3</th>\n",
       "      <td>93706</td>\n",
       "      <td>1.0</td>\n",
       "      <td>18.0</td>\n",
       "      <td>6</td>\n",
       "      <td>2</td>\n",
       "      <td>0</td>\n",
       "      <td>1</td>\n",
       "      <td>1</td>\n",
       "      <td>15</td>\n",
       "      <td>0</td>\n",
       "      <td>0</td>\n",
       "      <td>0</td>\n",
       "      <td>5</td>\n",
       "      <td>5</td>\n",
       "      <td>0.00</td>\n",
       "    </tr>\n",
       "    <tr>\n",
       "      <th>4</th>\n",
       "      <td>93707</td>\n",
       "      <td>1.0</td>\n",
       "      <td>13.0</td>\n",
       "      <td>7</td>\n",
       "      <td>0</td>\n",
       "      <td>0</td>\n",
       "      <td>1</td>\n",
       "      <td>1</td>\n",
       "      <td>6</td>\n",
       "      <td>0</td>\n",
       "      <td>0</td>\n",
       "      <td>0</td>\n",
       "      <td>7</td>\n",
       "      <td>7</td>\n",
       "      <td>1.88</td>\n",
       "    </tr>\n",
       "  </tbody>\n",
       "</table>\n",
       "</div>"
      ],
      "text/plain": [
       "    SEQN  RIAGENDR  RIDAGEYR  RIDRETH3  DMQMILIZ  DMQADFC  DMDBORN4  DMDCITZN  \\\n",
       "0  93703       2.0       2.0         6         0        0         1         1   \n",
       "1  93704       1.0       2.0         3         0        0         1         1   \n",
       "2  93705       2.0      66.0         4         2        0         1         1   \n",
       "3  93706       1.0      18.0         6         2        0         1         1   \n",
       "4  93707       1.0      13.0         7         0        0         1         1   \n",
       "\n",
       "   DMDEDUC3  DMDEDUC2  DMDMARTL  RIDEXPRG  DMDHHSIZ  DMDFMSIZ  INDFMPIR  \n",
       "0         0         0         0         0         5         5      5.00  \n",
       "1         0         0         0         0         4         4      5.00  \n",
       "2         0         2         3         0         1         1      0.82  \n",
       "3        15         0         0         0         5         5      0.00  \n",
       "4         6         0         0         0         7         7      1.88  "
      ]
     },
     "execution_count": 53,
     "metadata": {},
     "output_type": "execute_result"
    }
   ],
   "source": [
    "df_demo.head()"
   ]
  },
  {
   "cell_type": "code",
   "execution_count": 54,
   "metadata": {},
   "outputs": [],
   "source": [
    "#Diertary Dataset\n",
    "df_diet_day1=spark.read.csv('dr1tot.csv',  inferSchema=True, header = True)\n",
    "df_diet_day2=spark.read.csv('dr2tot.csv', inferSchema=True, header=True)"
   ]
  },
  {
   "cell_type": "code",
   "execution_count": 55,
   "metadata": {},
   "outputs": [
    {
     "data": {
      "text/plain": [
       "8800"
      ]
     },
     "execution_count": 55,
     "metadata": {},
     "output_type": "execute_result"
    }
   ],
   "source": [
    "df_diet_day2.count()"
   ]
  },
  {
   "cell_type": "code",
   "execution_count": 56,
   "metadata": {},
   "outputs": [],
   "source": [
    "#columns to drop\n",
    "drops=[x for x in df_diet_day1.columns if x not in ['SEQN',\"DR1DRSTZ\",\"DRQSPREP\",'DR1TPROT','DR1TCARB','DR1TSUGR','DR1TFIBE','DR1TTFAT','DR1TSFAT','DR1TMFAT','DR1TPFAT','DR1TCHOL','DR1TATOC','DR1TATOA','DR1TRET','DR1TVARA','DR1TACAR','DR1TBCAR','DR1TCRYP','DR1TLYCO','DR1TLZ','DR1TVB1','DR1TVB2','DR1TNIAC','DR1TVB6','DR1TFOLA','DR1TFA','DR1TFF','DR1TFDFE','DR1TCHL','DR1TVB12','DR1TB12A','DR1TVC','DR1TVD','DR1TVK','DR1TCALC','DR1TPHOS','DR1TMAGN','DR1TIRON','DR1TZINC','DR1TCOPP','DR1TSODI','DR1TPOTA','DR1TSELE','DR1TCAFF','DR1TTHEO','DR1TALCO','DR1_300']]"
   ]
  },
  {
   "cell_type": "code",
   "execution_count": 57,
   "metadata": {},
   "outputs": [],
   "source": [
    "#dropping unnecessary columns\n",
    "df_diet=df_diet_day1.drop(*drops)"
   ]
  },
  {
   "cell_type": "code",
   "execution_count": 58,
   "metadata": {},
   "outputs": [],
   "source": [
    "#delete duplicates\n",
    "df_diet=df_diet.dropDuplicates()\n",
    "\n",
    "#delete row with bad data\n",
    "df_diet=df_diet.where(\"SEQN>1\")"
   ]
  },
  {
   "cell_type": "code",
   "execution_count": 59,
   "metadata": {},
   "outputs": [
    {
     "name": "stdout",
     "output_type": "stream",
     "text": [
      "+-------+--------+--------+--------+--------+--------+--------+--------+--------+--------+--------+--------+--------+--------+-------+--------+--------+--------+--------+--------+------+-------+-------+--------+-------+--------+------+------+--------+-------+--------+--------+------+------+------+--------+--------+--------+--------+--------+--------+--------+--------+--------+--------+--------+--------+-------+\n",
      "|   SEQN|DR1DRSTZ|DRQSPREP|DR1TPROT|DR1TCARB|DR1TSUGR|DR1TFIBE|DR1TTFAT|DR1TSFAT|DR1TMFAT|DR1TPFAT|DR1TCHOL|DR1TATOC|DR1TATOA|DR1TRET|DR1TVARA|DR1TACAR|DR1TBCAR|DR1TCRYP|DR1TLYCO|DR1TLZ|DR1TVB1|DR1TVB2|DR1TNIAC|DR1TVB6|DR1TFOLA|DR1TFA|DR1TFF|DR1TFDFE|DR1TCHL|DR1TVB12|DR1TB12A|DR1TVC|DR1TVD|DR1TVK|DR1TCALC|DR1TPHOS|DR1TMAGN|DR1TIRON|DR1TZINC|DR1TCOPP|DR1TSODI|DR1TPOTA|DR1TSELE|DR1TCAFF|DR1TTHEO|DR1TALCO|DR1_300|\n",
      "+-------+--------+--------+--------+--------+--------+--------+--------+--------+--------+--------+--------+--------+--------+-------+--------+--------+--------+--------+--------+------+-------+-------+--------+-------+--------+------+------+--------+-------+--------+--------+------+------+------+--------+--------+--------+--------+--------+--------+--------+--------+--------+--------+--------+--------+-------+\n",
      "|93942.0|     5.0|       0|     0.0|     0.0|     0.0|     0.0|     0.0|     0.0|     0.0|     0.0|       0|     0.0|     0.0|      0|       0|       0|       0|       0|       0|     0|    0.0|    0.0|     0.0|    0.0|       0|     0|     0|       0|    0.0|     0.0|     0.0|   0.0|   0.0|   0.0|       0|       0|       0|     0.0|     0.0|     0.0|       0|       0|     0.0|       0|       0|     0.0|      0|\n",
      "|94078.0|     1.0|       4|   37.03|  247.14|   162.7|     8.5|   60.48|  19.946|  22.965|  10.165|      90|    7.25|     0.0|    130|     157|       7|     274|      62|     424|   349|   0.93|  1.156|   9.243|  0.851|     170|    72|    98|     219|  136.0|    3.03|     0.0|  47.3|   4.8|  48.5|     723|     811|     186|    6.92|    5.67|   0.746|    2642|    2214|    37.7|     142|     115|     0.0|      2|\n",
      "+-------+--------+--------+--------+--------+--------+--------+--------+--------+--------+--------+--------+--------+--------+-------+--------+--------+--------+--------+--------+------+-------+-------+--------+-------+--------+------+------+--------+-------+--------+--------+------+------+------+--------+--------+--------+--------+--------+--------+--------+--------+--------+--------+--------+--------+-------+\n",
      "only showing top 2 rows\n",
      "\n"
     ]
    }
   ],
   "source": [
    "df_diet.show(2)"
   ]
  },
  {
   "cell_type": "code",
   "execution_count": 60,
   "metadata": {},
   "outputs": [
    {
     "name": "stdout",
     "output_type": "stream",
     "text": [
      "Count of rows:8704\n",
      "Count of distinct rows:8704\n"
     ]
    }
   ],
   "source": [
    "#Get row count and distinct rows count\n",
    "print(f'Count of rows:{df_diet.count()}')\n",
    "print(f'Count of distinct rows:{df_diet.distinct().count()}')"
   ]
  },
  {
   "cell_type": "code",
   "execution_count": 61,
   "metadata": {},
   "outputs": [],
   "source": [
    "#drop rows with no relieable nutrition information (i.e only keep rows where DR1DRSTZ==1)\n",
    "df_diet_final=df_diet.where(df_diet.DR1DRSTZ==1)"
   ]
  },
  {
   "cell_type": "code",
   "execution_count": 62,
   "metadata": {},
   "outputs": [],
   "source": [
    "#Identifying categorical variables from diet dataset\n",
    "diet_cat=['DR1DRSTZ','DRQSPREP','DR1_300']"
   ]
  },
  {
   "cell_type": "code",
   "execution_count": 63,
   "metadata": {},
   "outputs": [
    {
     "name": "stdout",
     "output_type": "stream",
     "text": [
      "Count of rows:7484\n",
      "Count of distinct rows:7484\n"
     ]
    }
   ],
   "source": [
    "#Get row count and distinct rows count\n",
    "print(f'Count of rows:{df_diet_final.count()}')\n",
    "print(f'Count of distinct rows:{df_diet_final.distinct().count()}')"
   ]
  },
  {
   "cell_type": "code",
   "execution_count": 64,
   "metadata": {},
   "outputs": [
    {
     "data": {
      "text/plain": [
       "['SEQN',\n",
       " 'DR1DRSTZ',\n",
       " 'DRQSPREP',\n",
       " 'DR1TPROT',\n",
       " 'DR1TCARB',\n",
       " 'DR1TSUGR',\n",
       " 'DR1TFIBE',\n",
       " 'DR1TTFAT',\n",
       " 'DR1TSFAT',\n",
       " 'DR1TMFAT',\n",
       " 'DR1TPFAT',\n",
       " 'DR1TCHOL',\n",
       " 'DR1TATOC',\n",
       " 'DR1TATOA',\n",
       " 'DR1TRET',\n",
       " 'DR1TVARA',\n",
       " 'DR1TACAR',\n",
       " 'DR1TBCAR',\n",
       " 'DR1TCRYP',\n",
       " 'DR1TLYCO',\n",
       " 'DR1TLZ',\n",
       " 'DR1TVB1',\n",
       " 'DR1TVB2',\n",
       " 'DR1TNIAC',\n",
       " 'DR1TVB6',\n",
       " 'DR1TFOLA',\n",
       " 'DR1TFA',\n",
       " 'DR1TFF',\n",
       " 'DR1TFDFE',\n",
       " 'DR1TCHL',\n",
       " 'DR1TVB12',\n",
       " 'DR1TB12A',\n",
       " 'DR1TVC',\n",
       " 'DR1TVD',\n",
       " 'DR1TVK',\n",
       " 'DR1TCALC',\n",
       " 'DR1TPHOS',\n",
       " 'DR1TMAGN',\n",
       " 'DR1TIRON',\n",
       " 'DR1TZINC',\n",
       " 'DR1TCOPP',\n",
       " 'DR1TSODI',\n",
       " 'DR1TPOTA',\n",
       " 'DR1TSELE',\n",
       " 'DR1TCAFF',\n",
       " 'DR1TTHEO',\n",
       " 'DR1TALCO',\n",
       " 'DR1_300']"
      ]
     },
     "execution_count": 64,
     "metadata": {},
     "output_type": "execute_result"
    }
   ],
   "source": [
    "df_diet_final.columns"
   ]
  },
  {
   "cell_type": "code",
   "execution_count": 65,
   "metadata": {},
   "outputs": [],
   "source": [
    "#convert diet df to pandas\n",
    "df_diet_pd=df_diet_final.toPandas()"
   ]
  },
  {
   "cell_type": "code",
   "execution_count": 66,
   "metadata": {},
   "outputs": [
    {
     "data": {
      "text/html": [
       "<div>\n",
       "<style scoped>\n",
       "    .dataframe tbody tr th:only-of-type {\n",
       "        vertical-align: middle;\n",
       "    }\n",
       "\n",
       "    .dataframe tbody tr th {\n",
       "        vertical-align: top;\n",
       "    }\n",
       "\n",
       "    .dataframe thead th {\n",
       "        text-align: right;\n",
       "    }\n",
       "</style>\n",
       "<table border=\"1\" class=\"dataframe\">\n",
       "  <thead>\n",
       "    <tr style=\"text-align: right;\">\n",
       "      <th></th>\n",
       "      <th>SEQN</th>\n",
       "      <th>DR1DRSTZ</th>\n",
       "      <th>DRQSPREP</th>\n",
       "      <th>DR1TPROT</th>\n",
       "      <th>DR1TCARB</th>\n",
       "      <th>DR1TSUGR</th>\n",
       "      <th>DR1TFIBE</th>\n",
       "      <th>DR1TTFAT</th>\n",
       "      <th>DR1TSFAT</th>\n",
       "      <th>DR1TMFAT</th>\n",
       "      <th>...</th>\n",
       "      <th>DR1TIRON</th>\n",
       "      <th>DR1TZINC</th>\n",
       "      <th>DR1TCOPP</th>\n",
       "      <th>DR1TSODI</th>\n",
       "      <th>DR1TPOTA</th>\n",
       "      <th>DR1TSELE</th>\n",
       "      <th>DR1TCAFF</th>\n",
       "      <th>DR1TTHEO</th>\n",
       "      <th>DR1TALCO</th>\n",
       "      <th>DR1_300</th>\n",
       "    </tr>\n",
       "  </thead>\n",
       "  <tbody>\n",
       "    <tr>\n",
       "      <th>count</th>\n",
       "      <td>7484.000000</td>\n",
       "      <td>7484.0</td>\n",
       "      <td>7484.000000</td>\n",
       "      <td>7484.000000</td>\n",
       "      <td>7484.000000</td>\n",
       "      <td>7484.000000</td>\n",
       "      <td>7484.000000</td>\n",
       "      <td>7484.000000</td>\n",
       "      <td>7484.000000</td>\n",
       "      <td>7484.000000</td>\n",
       "      <td>...</td>\n",
       "      <td>7484.000000</td>\n",
       "      <td>7484.000000</td>\n",
       "      <td>7484.000000</td>\n",
       "      <td>7484.000000</td>\n",
       "      <td>7484.000000</td>\n",
       "      <td>7484.000000</td>\n",
       "      <td>7484.000000</td>\n",
       "      <td>7484.000000</td>\n",
       "      <td>7484.000000</td>\n",
       "      <td>7484.000000</td>\n",
       "    </tr>\n",
       "    <tr>\n",
       "      <th>mean</th>\n",
       "      <td>98328.898584</td>\n",
       "      <td>1.0</td>\n",
       "      <td>3.132282</td>\n",
       "      <td>72.741741</td>\n",
       "      <td>240.028939</td>\n",
       "      <td>105.706275</td>\n",
       "      <td>15.333151</td>\n",
       "      <td>79.765715</td>\n",
       "      <td>26.260014</td>\n",
       "      <td>27.047642</td>\n",
       "      <td>...</td>\n",
       "      <td>13.617913</td>\n",
       "      <td>10.070481</td>\n",
       "      <td>1.060954</td>\n",
       "      <td>3167.725414</td>\n",
       "      <td>2352.873463</td>\n",
       "      <td>102.949051</td>\n",
       "      <td>100.250267</td>\n",
       "      <td>36.899118</td>\n",
       "      <td>5.848530</td>\n",
       "      <td>2.121325</td>\n",
       "    </tr>\n",
       "    <tr>\n",
       "      <th>std</th>\n",
       "      <td>2669.681287</td>\n",
       "      <td>0.0</td>\n",
       "      <td>1.170203</td>\n",
       "      <td>41.547915</td>\n",
       "      <td>124.659625</td>\n",
       "      <td>72.516870</td>\n",
       "      <td>10.295339</td>\n",
       "      <td>47.295875</td>\n",
       "      <td>16.969165</td>\n",
       "      <td>17.064877</td>\n",
       "      <td>...</td>\n",
       "      <td>8.452313</td>\n",
       "      <td>8.509530</td>\n",
       "      <td>0.794364</td>\n",
       "      <td>1867.411866</td>\n",
       "      <td>1232.486454</td>\n",
       "      <td>70.996850</td>\n",
       "      <td>184.316186</td>\n",
       "      <td>76.045445</td>\n",
       "      <td>22.082343</td>\n",
       "      <td>0.657184</td>\n",
       "    </tr>\n",
       "    <tr>\n",
       "      <th>min</th>\n",
       "      <td>93704.000000</td>\n",
       "      <td>1.0</td>\n",
       "      <td>1.000000</td>\n",
       "      <td>0.000000</td>\n",
       "      <td>0.000000</td>\n",
       "      <td>0.000000</td>\n",
       "      <td>0.000000</td>\n",
       "      <td>0.000000</td>\n",
       "      <td>0.000000</td>\n",
       "      <td>0.000000</td>\n",
       "      <td>...</td>\n",
       "      <td>0.000000</td>\n",
       "      <td>0.000000</td>\n",
       "      <td>0.000000</td>\n",
       "      <td>0.000000</td>\n",
       "      <td>0.000000</td>\n",
       "      <td>0.000000</td>\n",
       "      <td>0.000000</td>\n",
       "      <td>0.000000</td>\n",
       "      <td>0.000000</td>\n",
       "      <td>1.000000</td>\n",
       "    </tr>\n",
       "    <tr>\n",
       "      <th>25%</th>\n",
       "      <td>96009.500000</td>\n",
       "      <td>1.0</td>\n",
       "      <td>2.000000</td>\n",
       "      <td>44.800000</td>\n",
       "      <td>156.682500</td>\n",
       "      <td>58.127500</td>\n",
       "      <td>8.300000</td>\n",
       "      <td>46.850000</td>\n",
       "      <td>14.700500</td>\n",
       "      <td>15.334750</td>\n",
       "      <td>...</td>\n",
       "      <td>8.060000</td>\n",
       "      <td>5.860000</td>\n",
       "      <td>0.629000</td>\n",
       "      <td>1920.500000</td>\n",
       "      <td>1507.000000</td>\n",
       "      <td>60.675000</td>\n",
       "      <td>1.000000</td>\n",
       "      <td>0.000000</td>\n",
       "      <td>0.000000</td>\n",
       "      <td>2.000000</td>\n",
       "    </tr>\n",
       "    <tr>\n",
       "      <th>50%</th>\n",
       "      <td>98351.500000</td>\n",
       "      <td>1.0</td>\n",
       "      <td>3.000000</td>\n",
       "      <td>65.135000</td>\n",
       "      <td>219.045000</td>\n",
       "      <td>90.755000</td>\n",
       "      <td>13.100000</td>\n",
       "      <td>70.420000</td>\n",
       "      <td>22.744000</td>\n",
       "      <td>23.592000</td>\n",
       "      <td>...</td>\n",
       "      <td>11.850000</td>\n",
       "      <td>8.600000</td>\n",
       "      <td>0.916500</td>\n",
       "      <td>2816.000000</td>\n",
       "      <td>2142.000000</td>\n",
       "      <td>90.300000</td>\n",
       "      <td>35.000000</td>\n",
       "      <td>0.000000</td>\n",
       "      <td>0.000000</td>\n",
       "      <td>2.000000</td>\n",
       "    </tr>\n",
       "    <tr>\n",
       "      <th>75%</th>\n",
       "      <td>100628.250000</td>\n",
       "      <td>1.0</td>\n",
       "      <td>4.000000</td>\n",
       "      <td>91.782500</td>\n",
       "      <td>299.100000</td>\n",
       "      <td>134.875000</td>\n",
       "      <td>19.725000</td>\n",
       "      <td>101.502500</td>\n",
       "      <td>33.979750</td>\n",
       "      <td>34.881000</td>\n",
       "      <td>...</td>\n",
       "      <td>16.972500</td>\n",
       "      <td>12.530000</td>\n",
       "      <td>1.307000</td>\n",
       "      <td>4026.750000</td>\n",
       "      <td>2962.000000</td>\n",
       "      <td>129.400000</td>\n",
       "      <td>143.000000</td>\n",
       "      <td>46.000000</td>\n",
       "      <td>0.000000</td>\n",
       "      <td>2.000000</td>\n",
       "    </tr>\n",
       "    <tr>\n",
       "      <th>max</th>\n",
       "      <td>102956.000000</td>\n",
       "      <td>1.0</td>\n",
       "      <td>9.000000</td>\n",
       "      <td>545.200000</td>\n",
       "      <td>1476.760000</td>\n",
       "      <td>931.160000</td>\n",
       "      <td>107.800000</td>\n",
       "      <td>567.960000</td>\n",
       "      <td>195.852000</td>\n",
       "      <td>200.097000</td>\n",
       "      <td>...</td>\n",
       "      <td>111.040000</td>\n",
       "      <td>477.530000</td>\n",
       "      <td>36.816000</td>\n",
       "      <td>25949.000000</td>\n",
       "      <td>14358.000000</td>\n",
       "      <td>2604.900000</td>\n",
       "      <td>4320.000000</td>\n",
       "      <td>1188.000000</td>\n",
       "      <td>406.800000</td>\n",
       "      <td>9.000000</td>\n",
       "    </tr>\n",
       "  </tbody>\n",
       "</table>\n",
       "<p>8 rows × 48 columns</p>\n",
       "</div>"
      ],
      "text/plain": [
       "                SEQN  DR1DRSTZ     DRQSPREP     DR1TPROT     DR1TCARB  \\\n",
       "count    7484.000000    7484.0  7484.000000  7484.000000  7484.000000   \n",
       "mean    98328.898584       1.0     3.132282    72.741741   240.028939   \n",
       "std      2669.681287       0.0     1.170203    41.547915   124.659625   \n",
       "min     93704.000000       1.0     1.000000     0.000000     0.000000   \n",
       "25%     96009.500000       1.0     2.000000    44.800000   156.682500   \n",
       "50%     98351.500000       1.0     3.000000    65.135000   219.045000   \n",
       "75%    100628.250000       1.0     4.000000    91.782500   299.100000   \n",
       "max    102956.000000       1.0     9.000000   545.200000  1476.760000   \n",
       "\n",
       "          DR1TSUGR     DR1TFIBE     DR1TTFAT     DR1TSFAT     DR1TMFAT  ...  \\\n",
       "count  7484.000000  7484.000000  7484.000000  7484.000000  7484.000000  ...   \n",
       "mean    105.706275    15.333151    79.765715    26.260014    27.047642  ...   \n",
       "std      72.516870    10.295339    47.295875    16.969165    17.064877  ...   \n",
       "min       0.000000     0.000000     0.000000     0.000000     0.000000  ...   \n",
       "25%      58.127500     8.300000    46.850000    14.700500    15.334750  ...   \n",
       "50%      90.755000    13.100000    70.420000    22.744000    23.592000  ...   \n",
       "75%     134.875000    19.725000   101.502500    33.979750    34.881000  ...   \n",
       "max     931.160000   107.800000   567.960000   195.852000   200.097000  ...   \n",
       "\n",
       "          DR1TIRON     DR1TZINC     DR1TCOPP      DR1TSODI      DR1TPOTA  \\\n",
       "count  7484.000000  7484.000000  7484.000000   7484.000000   7484.000000   \n",
       "mean     13.617913    10.070481     1.060954   3167.725414   2352.873463   \n",
       "std       8.452313     8.509530     0.794364   1867.411866   1232.486454   \n",
       "min       0.000000     0.000000     0.000000      0.000000      0.000000   \n",
       "25%       8.060000     5.860000     0.629000   1920.500000   1507.000000   \n",
       "50%      11.850000     8.600000     0.916500   2816.000000   2142.000000   \n",
       "75%      16.972500    12.530000     1.307000   4026.750000   2962.000000   \n",
       "max     111.040000   477.530000    36.816000  25949.000000  14358.000000   \n",
       "\n",
       "          DR1TSELE     DR1TCAFF     DR1TTHEO     DR1TALCO      DR1_300  \n",
       "count  7484.000000  7484.000000  7484.000000  7484.000000  7484.000000  \n",
       "mean    102.949051   100.250267    36.899118     5.848530     2.121325  \n",
       "std      70.996850   184.316186    76.045445    22.082343     0.657184  \n",
       "min       0.000000     0.000000     0.000000     0.000000     1.000000  \n",
       "25%      60.675000     1.000000     0.000000     0.000000     2.000000  \n",
       "50%      90.300000    35.000000     0.000000     0.000000     2.000000  \n",
       "75%     129.400000   143.000000    46.000000     0.000000     2.000000  \n",
       "max    2604.900000  4320.000000  1188.000000   406.800000     9.000000  \n",
       "\n",
       "[8 rows x 48 columns]"
      ]
     },
     "execution_count": 66,
     "metadata": {},
     "output_type": "execute_result"
    }
   ],
   "source": [
    "#descriptive statistics on diet dataset\n",
    "df_diet_pd.describe()"
   ]
  },
  {
   "cell_type": "code",
   "execution_count": 67,
   "metadata": {},
   "outputs": [
    {
     "data": {
      "text/html": [
       "<div>\n",
       "<style scoped>\n",
       "    .dataframe tbody tr th:only-of-type {\n",
       "        vertical-align: middle;\n",
       "    }\n",
       "\n",
       "    .dataframe tbody tr th {\n",
       "        vertical-align: top;\n",
       "    }\n",
       "\n",
       "    .dataframe thead th {\n",
       "        text-align: right;\n",
       "    }\n",
       "</style>\n",
       "<table border=\"1\" class=\"dataframe\">\n",
       "  <thead>\n",
       "    <tr style=\"text-align: right;\">\n",
       "      <th></th>\n",
       "      <th>SEQN</th>\n",
       "      <th>DR1DRSTZ</th>\n",
       "      <th>DRQSPREP</th>\n",
       "      <th>DR1TPROT</th>\n",
       "      <th>DR1TCARB</th>\n",
       "      <th>DR1TSUGR</th>\n",
       "      <th>DR1TFIBE</th>\n",
       "      <th>DR1TTFAT</th>\n",
       "      <th>DR1TSFAT</th>\n",
       "      <th>DR1TMFAT</th>\n",
       "      <th>...</th>\n",
       "      <th>DR1TIRON</th>\n",
       "      <th>DR1TZINC</th>\n",
       "      <th>DR1TCOPP</th>\n",
       "      <th>DR1TSODI</th>\n",
       "      <th>DR1TPOTA</th>\n",
       "      <th>DR1TSELE</th>\n",
       "      <th>DR1TCAFF</th>\n",
       "      <th>DR1TTHEO</th>\n",
       "      <th>DR1TALCO</th>\n",
       "      <th>DR1_300</th>\n",
       "    </tr>\n",
       "  </thead>\n",
       "  <tbody>\n",
       "    <tr>\n",
       "      <th>0</th>\n",
       "      <td>94078.0</td>\n",
       "      <td>1.0</td>\n",
       "      <td>4</td>\n",
       "      <td>37.03</td>\n",
       "      <td>247.14</td>\n",
       "      <td>162.70</td>\n",
       "      <td>8.5</td>\n",
       "      <td>60.48</td>\n",
       "      <td>19.946</td>\n",
       "      <td>22.965</td>\n",
       "      <td>...</td>\n",
       "      <td>6.92</td>\n",
       "      <td>5.67</td>\n",
       "      <td>0.746</td>\n",
       "      <td>2642</td>\n",
       "      <td>2214</td>\n",
       "      <td>37.7</td>\n",
       "      <td>142</td>\n",
       "      <td>115</td>\n",
       "      <td>0.0</td>\n",
       "      <td>2</td>\n",
       "    </tr>\n",
       "    <tr>\n",
       "      <th>1</th>\n",
       "      <td>94155.0</td>\n",
       "      <td>1.0</td>\n",
       "      <td>4</td>\n",
       "      <td>39.88</td>\n",
       "      <td>183.70</td>\n",
       "      <td>72.92</td>\n",
       "      <td>24.1</td>\n",
       "      <td>89.96</td>\n",
       "      <td>14.635</td>\n",
       "      <td>32.490</td>\n",
       "      <td>...</td>\n",
       "      <td>11.37</td>\n",
       "      <td>6.85</td>\n",
       "      <td>1.645</td>\n",
       "      <td>1566</td>\n",
       "      <td>2461</td>\n",
       "      <td>102.4</td>\n",
       "      <td>102</td>\n",
       "      <td>0</td>\n",
       "      <td>0.0</td>\n",
       "      <td>2</td>\n",
       "    </tr>\n",
       "    <tr>\n",
       "      <th>2</th>\n",
       "      <td>94376.0</td>\n",
       "      <td>1.0</td>\n",
       "      <td>3</td>\n",
       "      <td>91.41</td>\n",
       "      <td>653.09</td>\n",
       "      <td>321.77</td>\n",
       "      <td>22.4</td>\n",
       "      <td>168.99</td>\n",
       "      <td>51.487</td>\n",
       "      <td>50.795</td>\n",
       "      <td>...</td>\n",
       "      <td>24.98</td>\n",
       "      <td>11.49</td>\n",
       "      <td>1.693</td>\n",
       "      <td>5092</td>\n",
       "      <td>5181</td>\n",
       "      <td>101.0</td>\n",
       "      <td>890</td>\n",
       "      <td>10</td>\n",
       "      <td>0.0</td>\n",
       "      <td>2</td>\n",
       "    </tr>\n",
       "    <tr>\n",
       "      <th>3</th>\n",
       "      <td>94588.0</td>\n",
       "      <td>1.0</td>\n",
       "      <td>1</td>\n",
       "      <td>55.96</td>\n",
       "      <td>187.40</td>\n",
       "      <td>114.64</td>\n",
       "      <td>6.0</td>\n",
       "      <td>67.71</td>\n",
       "      <td>31.900</td>\n",
       "      <td>21.194</td>\n",
       "      <td>...</td>\n",
       "      <td>6.43</td>\n",
       "      <td>6.47</td>\n",
       "      <td>0.400</td>\n",
       "      <td>1707</td>\n",
       "      <td>1621</td>\n",
       "      <td>79.1</td>\n",
       "      <td>0</td>\n",
       "      <td>0</td>\n",
       "      <td>0.0</td>\n",
       "      <td>2</td>\n",
       "    </tr>\n",
       "    <tr>\n",
       "      <th>4</th>\n",
       "      <td>94602.0</td>\n",
       "      <td>1.0</td>\n",
       "      <td>4</td>\n",
       "      <td>56.48</td>\n",
       "      <td>281.33</td>\n",
       "      <td>148.45</td>\n",
       "      <td>9.5</td>\n",
       "      <td>74.89</td>\n",
       "      <td>23.447</td>\n",
       "      <td>22.184</td>\n",
       "      <td>...</td>\n",
       "      <td>9.60</td>\n",
       "      <td>6.51</td>\n",
       "      <td>0.713</td>\n",
       "      <td>2320</td>\n",
       "      <td>2189</td>\n",
       "      <td>54.8</td>\n",
       "      <td>5</td>\n",
       "      <td>84</td>\n",
       "      <td>0.0</td>\n",
       "      <td>2</td>\n",
       "    </tr>\n",
       "  </tbody>\n",
       "</table>\n",
       "<p>5 rows × 48 columns</p>\n",
       "</div>"
      ],
      "text/plain": [
       "      SEQN  DR1DRSTZ  DRQSPREP  DR1TPROT  DR1TCARB  DR1TSUGR  DR1TFIBE  \\\n",
       "0  94078.0       1.0         4     37.03    247.14    162.70       8.5   \n",
       "1  94155.0       1.0         4     39.88    183.70     72.92      24.1   \n",
       "2  94376.0       1.0         3     91.41    653.09    321.77      22.4   \n",
       "3  94588.0       1.0         1     55.96    187.40    114.64       6.0   \n",
       "4  94602.0       1.0         4     56.48    281.33    148.45       9.5   \n",
       "\n",
       "   DR1TTFAT  DR1TSFAT  DR1TMFAT  ...  DR1TIRON  DR1TZINC  DR1TCOPP  DR1TSODI  \\\n",
       "0     60.48    19.946    22.965  ...      6.92      5.67     0.746      2642   \n",
       "1     89.96    14.635    32.490  ...     11.37      6.85     1.645      1566   \n",
       "2    168.99    51.487    50.795  ...     24.98     11.49     1.693      5092   \n",
       "3     67.71    31.900    21.194  ...      6.43      6.47     0.400      1707   \n",
       "4     74.89    23.447    22.184  ...      9.60      6.51     0.713      2320   \n",
       "\n",
       "   DR1TPOTA  DR1TSELE  DR1TCAFF  DR1TTHEO  DR1TALCO  DR1_300  \n",
       "0      2214      37.7       142       115       0.0        2  \n",
       "1      2461     102.4       102         0       0.0        2  \n",
       "2      5181     101.0       890        10       0.0        2  \n",
       "3      1621      79.1         0         0       0.0        2  \n",
       "4      2189      54.8         5        84       0.0        2  \n",
       "\n",
       "[5 rows x 48 columns]"
      ]
     },
     "execution_count": 67,
     "metadata": {},
     "output_type": "execute_result"
    }
   ],
   "source": [
    "df_diet_pd.head(5)"
   ]
  },
  {
   "cell_type": "code",
   "execution_count": 68,
   "metadata": {},
   "outputs": [],
   "source": [
    "#merge labs, demograpgics, mcq, and Diet dataframes\n",
    "nhanes1=df_merge_col = pd.merge(final_labs, df_supplements,on='SEQN')\n",
    "nhanes2=df_merge_col = pd.merge(nhanes1, df_demo,on='SEQN')\n",
    "nhanes3=df_merge_col = pd.merge(nhanes2, df_diet_pd,on='SEQN')\n",
    "final_nhanes=df_merge_col = pd.merge(nhanes3, df_mcq,on='SEQN')"
   ]
  },
  {
   "cell_type": "code",
   "execution_count": 69,
   "metadata": {},
   "outputs": [
    {
     "data": {
      "text/html": [
       "<div>\n",
       "<style scoped>\n",
       "    .dataframe tbody tr th:only-of-type {\n",
       "        vertical-align: middle;\n",
       "    }\n",
       "\n",
       "    .dataframe tbody tr th {\n",
       "        vertical-align: top;\n",
       "    }\n",
       "\n",
       "    .dataframe thead th {\n",
       "        text-align: right;\n",
       "    }\n",
       "</style>\n",
       "<table border=\"1\" class=\"dataframe\">\n",
       "  <thead>\n",
       "    <tr style=\"text-align: right;\">\n",
       "      <th></th>\n",
       "      <th>SEQN</th>\n",
       "      <th>LBDLYMNO</th>\n",
       "      <th>LBDMONO</th>\n",
       "      <th>LBDEONO</th>\n",
       "      <th>LBDBANO</th>\n",
       "      <th>LBXHCT</th>\n",
       "      <th>LBXMCHSI</th>\n",
       "      <th>LBXPLTSI</th>\n",
       "      <th>LBXNRBC</th>\n",
       "      <th>LBXHSCRP</th>\n",
       "      <th>...</th>\n",
       "      <th>MCQ300A</th>\n",
       "      <th>MCQ366A</th>\n",
       "      <th>MCQ366B</th>\n",
       "      <th>MCQ366C</th>\n",
       "      <th>MCQ366D</th>\n",
       "      <th>MCQ371A</th>\n",
       "      <th>MCQ371B</th>\n",
       "      <th>MCQ371C</th>\n",
       "      <th>MCQ371D</th>\n",
       "      <th>OSQ230</th>\n",
       "    </tr>\n",
       "  </thead>\n",
       "  <tbody>\n",
       "    <tr>\n",
       "      <th>0</th>\n",
       "      <td>93705</td>\n",
       "      <td>3.4</td>\n",
       "      <td>0.6</td>\n",
       "      <td>0.2</td>\n",
       "      <td>0.1</td>\n",
       "      <td>36.7</td>\n",
       "      <td>21.7</td>\n",
       "      <td>309</td>\n",
       "      <td>0.0</td>\n",
       "      <td>2.72</td>\n",
       "      <td>...</td>\n",
       "      <td>2</td>\n",
       "      <td>2</td>\n",
       "      <td>2</td>\n",
       "      <td>2</td>\n",
       "      <td>2</td>\n",
       "      <td>1</td>\n",
       "      <td>1</td>\n",
       "      <td>1</td>\n",
       "      <td>1</td>\n",
       "      <td>2</td>\n",
       "    </tr>\n",
       "    <tr>\n",
       "      <th>1</th>\n",
       "      <td>93706</td>\n",
       "      <td>1.5</td>\n",
       "      <td>0.6</td>\n",
       "      <td>0.3</td>\n",
       "      <td>0.0</td>\n",
       "      <td>47.0</td>\n",
       "      <td>31.1</td>\n",
       "      <td>233</td>\n",
       "      <td>0.0</td>\n",
       "      <td>0.74</td>\n",
       "      <td>...</td>\n",
       "      <td>0</td>\n",
       "      <td>2</td>\n",
       "      <td>2</td>\n",
       "      <td>2</td>\n",
       "      <td>2</td>\n",
       "      <td>2</td>\n",
       "      <td>2</td>\n",
       "      <td>2</td>\n",
       "      <td>2</td>\n",
       "      <td>0</td>\n",
       "    </tr>\n",
       "  </tbody>\n",
       "</table>\n",
       "<p>2 rows × 150 columns</p>\n",
       "</div>"
      ],
      "text/plain": [
       "    SEQN  LBDLYMNO  LBDMONO  LBDEONO  LBDBANO  LBXHCT  LBXMCHSI  LBXPLTSI  \\\n",
       "0  93705       3.4      0.6      0.2      0.1    36.7      21.7       309   \n",
       "1  93706       1.5      0.6      0.3      0.0    47.0      31.1       233   \n",
       "\n",
       "   LBXNRBC  LBXHSCRP  ...  MCQ300A  MCQ366A  MCQ366B  MCQ366C  MCQ366D  \\\n",
       "0      0.0      2.72  ...        2        2        2        2        2   \n",
       "1      0.0      0.74  ...        0        2        2        2        2   \n",
       "\n",
       "   MCQ371A  MCQ371B  MCQ371C  MCQ371D  OSQ230  \n",
       "0        1        1        1        1       2  \n",
       "1        2        2        2        2       0  \n",
       "\n",
       "[2 rows x 150 columns]"
      ]
     },
     "execution_count": 69,
     "metadata": {},
     "output_type": "execute_result"
    }
   ],
   "source": [
    "final_nhanes.head(2)"
   ]
  },
  {
   "cell_type": "code",
   "execution_count": 70,
   "metadata": {},
   "outputs": [
    {
     "name": "stdout",
     "output_type": "stream",
     "text": [
      "SEQN 0\n",
      "LBDLYMNO 0\n",
      "LBDMONO 0\n",
      "LBDEONO 0\n",
      "LBDBANO 0\n",
      "LBXHCT 0\n",
      "LBXMCHSI 0\n",
      "LBXPLTSI 0\n",
      "LBXNRBC 0\n",
      "LBXHSCRP 0\n",
      "LBDTCSI 0\n",
      "LBDLDNSI 3827\n",
      "LBDINSI 3827\n",
      "DSDCOUNT 0\n",
      "DSDANCNT 0\n",
      "DSD010 0\n",
      "DSD010AN 0\n",
      "DSQTLYCO 0\n",
      "DSQTLZ 0\n",
      "DSQTVB1 0\n",
      "DSQTVB2 0\n",
      "DSQTNIAC 0\n",
      "DSQTVB6 0\n",
      "DSQTFA 0\n",
      "DSQTFDFE 0\n",
      "DSQTVB12 0\n",
      "DSQTVC 0\n",
      "DSQTVK 0\n",
      "DSQTVD 0\n",
      "DSQTCALC 0\n",
      "DSQTPHOS 0\n",
      "DSQTMAGN 0\n",
      "DSQTIRON 0\n",
      "DSQTZINC 0\n",
      "DSQTCOPP 0\n",
      "DSQTSODI 0\n",
      "DSQTPOTA 0\n",
      "DSQTSELE 0\n",
      "DSQTIODI 0\n",
      "RIAGENDR 0\n",
      "RIDAGEYR 0\n",
      "RIDRETH3 0\n",
      "DMQMILIZ 0\n",
      "DMQADFC 0\n",
      "DMDBORN4 0\n",
      "DMDCITZN 0\n",
      "DMDEDUC3 0\n",
      "DMDEDUC2 0\n",
      "DMDMARTL 0\n",
      "RIDEXPRG 0\n",
      "DMDHHSIZ 0\n",
      "DMDFMSIZ 0\n",
      "INDFMPIR 0\n",
      "DR1DRSTZ 0\n",
      "DRQSPREP 0\n",
      "DR1TPROT 0\n",
      "DR1TCARB 0\n",
      "DR1TSUGR 0\n",
      "DR1TFIBE 0\n",
      "DR1TTFAT 0\n",
      "DR1TSFAT 0\n",
      "DR1TMFAT 0\n",
      "DR1TPFAT 0\n",
      "DR1TCHOL 0\n",
      "DR1TATOC 0\n",
      "DR1TATOA 0\n",
      "DR1TRET 0\n",
      "DR1TVARA 0\n",
      "DR1TACAR 0\n",
      "DR1TBCAR 0\n",
      "DR1TCRYP 0\n",
      "DR1TLYCO 0\n",
      "DR1TLZ 0\n",
      "DR1TVB1 0\n",
      "DR1TVB2 0\n",
      "DR1TNIAC 0\n",
      "DR1TVB6 0\n",
      "DR1TFOLA 0\n",
      "DR1TFA 0\n",
      "DR1TFF 0\n",
      "DR1TFDFE 0\n",
      "DR1TCHL 0\n",
      "DR1TVB12 0\n",
      "DR1TB12A 0\n",
      "DR1TVC 0\n",
      "DR1TVD 0\n",
      "DR1TVK 0\n",
      "DR1TCALC 0\n",
      "DR1TPHOS 0\n",
      "DR1TMAGN 0\n",
      "DR1TIRON 0\n",
      "DR1TZINC 0\n",
      "DR1TCOPP 0\n",
      "DR1TSODI 0\n",
      "DR1TPOTA 0\n",
      "DR1TSELE 0\n",
      "DR1TCAFF 0\n",
      "DR1TTHEO 0\n",
      "DR1TALCO 0\n",
      "DR1_300 0\n",
      "MCQ025 0\n",
      "MCQ035 0\n",
      "MCQ040 0\n",
      "MCQ050 0\n",
      "MCQ053 0\n",
      "MCQ080 0\n",
      "MCQ092 0\n",
      "MCQ160A 0\n",
      "MCQ195 0\n",
      "MCQ160N 0\n",
      "MCQ160B 0\n",
      "MCQ160C 0\n",
      "MCQ160D 0\n",
      "MCQ160E 0\n",
      "MCQ160F 0\n",
      "MCQ160M 0\n",
      "MCQ170M 0\n",
      "MCQ160G 0\n",
      "MCQ170K 0\n",
      "MCQ160O 0\n",
      "MCQ160L 0\n",
      "MCQ170L 0\n",
      "MCQ500 0\n",
      "MCQ510A 0\n",
      "MCQ510B 0\n",
      "MCQ510C 0\n",
      "MCQ510D 0\n",
      "MCQ510E 0\n",
      "MCQ510F 0\n",
      "MCQ520 0\n",
      "MCQ530 0\n",
      "MCQ540 0\n",
      "MCQ550 0\n",
      "MCQ560 0\n",
      "MCQ203 0\n",
      "MCQ220 0\n",
      "MCQ230A 0\n",
      "MCQ230B 0\n",
      "MCQ230C 0\n",
      "MCQ300C 0\n",
      "MCQ300A 0\n",
      "MCQ366A 0\n",
      "MCQ366B 0\n",
      "MCQ366C 0\n",
      "MCQ366D 0\n",
      "MCQ371A 0\n",
      "MCQ371B 0\n",
      "MCQ371C 0\n",
      "MCQ371D 0\n",
      "OSQ230 0\n"
     ]
    }
   ],
   "source": [
    "#Count NAs\n",
    "for x in final_nhanes.columns:\n",
    "    y= final_nhanes[x].isna().sum().sum()\n",
    "    print (x,y)"
   ]
  },
  {
   "cell_type": "code",
   "execution_count": 71,
   "metadata": {},
   "outputs": [
    {
     "data": {
      "text/plain": [
       "(6582, 150)"
      ]
     },
     "execution_count": 71,
     "metadata": {},
     "output_type": "execute_result"
    }
   ],
   "source": [
    "final_nhanes.shape"
   ]
  },
  {
   "cell_type": "code",
   "execution_count": 72,
   "metadata": {},
   "outputs": [
    {
     "data": {
      "text/plain": [
       "(5787, 150)"
      ]
     },
     "execution_count": 72,
     "metadata": {},
     "output_type": "execute_result"
    }
   ],
   "source": [
    "#drop anyone under the age of 12\n",
    "#this is due to some relevant variables not being collected for participants under 12\n",
    "\n",
    "final_nhanes_over11=final_nhanes[final_nhanes['RIDAGEYR']>11]\n",
    "final_nhanes_over11.shape"
   ]
  },
  {
   "cell_type": "markdown",
   "metadata": {},
   "source": [
    "## Data Preprocessing"
   ]
  },
  {
   "cell_type": "markdown",
   "metadata": {},
   "source": [
    "### Missing Data: Imputing Mean Values for LDL and Insulin"
   ]
  },
  {
   "cell_type": "code",
   "execution_count": 73,
   "metadata": {},
   "outputs": [
    {
     "data": {
      "text/html": [
       "<div>\n",
       "<style scoped>\n",
       "    .dataframe tbody tr th:only-of-type {\n",
       "        vertical-align: middle;\n",
       "    }\n",
       "\n",
       "    .dataframe tbody tr th {\n",
       "        vertical-align: top;\n",
       "    }\n",
       "\n",
       "    .dataframe thead th {\n",
       "        text-align: right;\n",
       "    }\n",
       "</style>\n",
       "<table border=\"1\" class=\"dataframe\">\n",
       "  <thead>\n",
       "    <tr style=\"text-align: right;\">\n",
       "      <th></th>\n",
       "      <th>RIAGENDR</th>\n",
       "      <th>RIDAGEYR</th>\n",
       "      <th>LDL_mean</th>\n",
       "      <th>INS_mean</th>\n",
       "    </tr>\n",
       "  </thead>\n",
       "  <tbody>\n",
       "    <tr>\n",
       "      <th>0</th>\n",
       "      <td>1.0</td>\n",
       "      <td>12.0</td>\n",
       "      <td>2.329905</td>\n",
       "      <td>63.754286</td>\n",
       "    </tr>\n",
       "    <tr>\n",
       "      <th>1</th>\n",
       "      <td>1.0</td>\n",
       "      <td>13.0</td>\n",
       "      <td>1.621625</td>\n",
       "      <td>60.910000</td>\n",
       "    </tr>\n",
       "    <tr>\n",
       "      <th>2</th>\n",
       "      <td>1.0</td>\n",
       "      <td>14.0</td>\n",
       "      <td>2.126462</td>\n",
       "      <td>81.996923</td>\n",
       "    </tr>\n",
       "    <tr>\n",
       "      <th>3</th>\n",
       "      <td>1.0</td>\n",
       "      <td>15.0</td>\n",
       "      <td>1.793211</td>\n",
       "      <td>58.294737</td>\n",
       "    </tr>\n",
       "    <tr>\n",
       "      <th>4</th>\n",
       "      <td>1.0</td>\n",
       "      <td>16.0</td>\n",
       "      <td>1.971500</td>\n",
       "      <td>63.836842</td>\n",
       "    </tr>\n",
       "    <tr>\n",
       "      <th>5</th>\n",
       "      <td>1.0</td>\n",
       "      <td>17.0</td>\n",
       "      <td>2.118417</td>\n",
       "      <td>75.400000</td>\n",
       "    </tr>\n",
       "    <tr>\n",
       "      <th>6</th>\n",
       "      <td>1.0</td>\n",
       "      <td>18.0</td>\n",
       "      <td>2.083500</td>\n",
       "      <td>94.279286</td>\n",
       "    </tr>\n",
       "  </tbody>\n",
       "</table>\n",
       "</div>"
      ],
      "text/plain": [
       "   RIAGENDR  RIDAGEYR  LDL_mean   INS_mean\n",
       "0       1.0      12.0  2.329905  63.754286\n",
       "1       1.0      13.0  1.621625  60.910000\n",
       "2       1.0      14.0  2.126462  81.996923\n",
       "3       1.0      15.0  1.793211  58.294737\n",
       "4       1.0      16.0  1.971500  63.836842\n",
       "5       1.0      17.0  2.118417  75.400000\n",
       "6       1.0      18.0  2.083500  94.279286"
      ]
     },
     "execution_count": 73,
     "metadata": {},
     "output_type": "execute_result"
    }
   ],
   "source": [
    "#Dataframe with the mean of LDL and Insulin by Gender and Age\n",
    "LDL_INS_MEAN = final_nhanes_over11.groupby(['RIAGENDR','RIDAGEYR']).agg({'LBDLDNSI': ['mean'],'LBDINSI': ['mean']})\n",
    "LDL_INS_MEAN.columns = ['LDL_mean','INS_mean']\n",
    "LDL_INS_MEAN = LDL_INS_MEAN.reset_index()\n",
    "LDL_INS_MEAN.head(7)\n"
   ]
  },
  {
   "cell_type": "code",
   "execution_count": 74,
   "metadata": {},
   "outputs": [],
   "source": [
    "#add the LDL_Mean and INS_mean to the nhanes dataframe\n",
    "final_nhanes_over11= pd.merge(final_nhanes_over11, LDL_INS_MEAN,how=\"left\",on=[\"RIAGENDR\",'RIDAGEYR'])\n"
   ]
  },
  {
   "cell_type": "code",
   "execution_count": 75,
   "metadata": {},
   "outputs": [
    {
     "data": {
      "text/html": [
       "<div>\n",
       "<style scoped>\n",
       "    .dataframe tbody tr th:only-of-type {\n",
       "        vertical-align: middle;\n",
       "    }\n",
       "\n",
       "    .dataframe tbody tr th {\n",
       "        vertical-align: top;\n",
       "    }\n",
       "\n",
       "    .dataframe thead th {\n",
       "        text-align: right;\n",
       "    }\n",
       "</style>\n",
       "<table border=\"1\" class=\"dataframe\">\n",
       "  <thead>\n",
       "    <tr style=\"text-align: right;\">\n",
       "      <th></th>\n",
       "      <th>SEQN</th>\n",
       "      <th>RIAGENDR</th>\n",
       "      <th>RIDAGEYR</th>\n",
       "      <th>LDL_mean</th>\n",
       "      <th>INS_mean</th>\n",
       "    </tr>\n",
       "  </thead>\n",
       "  <tbody>\n",
       "    <tr>\n",
       "      <th>0</th>\n",
       "      <td>93705</td>\n",
       "      <td>2.0</td>\n",
       "      <td>66.0</td>\n",
       "      <td>2.943125</td>\n",
       "      <td>82.305000</td>\n",
       "    </tr>\n",
       "    <tr>\n",
       "      <th>1</th>\n",
       "      <td>93706</td>\n",
       "      <td>1.0</td>\n",
       "      <td>18.0</td>\n",
       "      <td>2.083500</td>\n",
       "      <td>94.279286</td>\n",
       "    </tr>\n",
       "    <tr>\n",
       "      <th>2</th>\n",
       "      <td>93707</td>\n",
       "      <td>1.0</td>\n",
       "      <td>13.0</td>\n",
       "      <td>1.621625</td>\n",
       "      <td>60.910000</td>\n",
       "    </tr>\n",
       "    <tr>\n",
       "      <th>3</th>\n",
       "      <td>93708</td>\n",
       "      <td>2.0</td>\n",
       "      <td>66.0</td>\n",
       "      <td>2.943125</td>\n",
       "      <td>82.305000</td>\n",
       "    </tr>\n",
       "    <tr>\n",
       "      <th>4</th>\n",
       "      <td>93711</td>\n",
       "      <td>1.0</td>\n",
       "      <td>56.0</td>\n",
       "      <td>2.875600</td>\n",
       "      <td>56.676000</td>\n",
       "    </tr>\n",
       "  </tbody>\n",
       "</table>\n",
       "</div>"
      ],
      "text/plain": [
       "    SEQN  RIAGENDR  RIDAGEYR  LDL_mean   INS_mean\n",
       "0  93705       2.0      66.0  2.943125  82.305000\n",
       "1  93706       1.0      18.0  2.083500  94.279286\n",
       "2  93707       1.0      13.0  1.621625  60.910000\n",
       "3  93708       2.0      66.0  2.943125  82.305000\n",
       "4  93711       1.0      56.0  2.875600  56.676000"
      ]
     },
     "execution_count": 75,
     "metadata": {},
     "output_type": "execute_result"
    }
   ],
   "source": [
    "#check if LDL_mean and INS_mean are in the dataframe\n",
    "final_nhanes_over11[[\"SEQN\",\"RIAGENDR\",\"RIDAGEYR\",'LDL_mean',\"INS_mean\"]].head()"
   ]
  },
  {
   "cell_type": "code",
   "execution_count": 76,
   "metadata": {},
   "outputs": [],
   "source": [
    "#fill LBDLDNSI with means\n",
    "final_nhanes_over11['LBDLDNSI'].fillna(final_nhanes_over11['LDL_mean'], inplace=True)\n",
    "\n",
    "#fill LBDINSI with means\n",
    "final_nhanes_over11['LBDINSI'].fillna(final_nhanes_over11['INS_mean'], inplace=True)"
   ]
  },
  {
   "cell_type": "code",
   "execution_count": 77,
   "metadata": {},
   "outputs": [
    {
     "data": {
      "text/plain": [
       "0"
      ]
     },
     "execution_count": 77,
     "metadata": {},
     "output_type": "execute_result"
    }
   ],
   "source": [
    "#check if anymore NAs in column\n",
    "final_nhanes_over11['LBDLDNSI'].isna().sum().sum()\n",
    "\n",
    "#check if anymore NAs in column\n",
    "final_nhanes_over11['LBDINSI'].isna().sum().sum()"
   ]
  },
  {
   "cell_type": "code",
   "execution_count": 78,
   "metadata": {},
   "outputs": [
    {
     "data": {
      "text/plain": [
       "(5787, 152)"
      ]
     },
     "execution_count": 78,
     "metadata": {},
     "output_type": "execute_result"
    }
   ],
   "source": [
    "final_nhanes_over11.shape"
   ]
  },
  {
   "cell_type": "code",
   "execution_count": 79,
   "metadata": {},
   "outputs": [],
   "source": [
    "#create list of all categorical variables\n",
    "cat_variables=demo_cat+sup_cat+diet_cat+mcq_cat"
   ]
  },
  {
   "cell_type": "code",
   "execution_count": 80,
   "metadata": {},
   "outputs": [],
   "source": [
    "#create spark dataframe\n",
    "final_nhanes_over11 = spark.createDataFrame(final_nhanes_over11)"
   ]
  },
  {
   "cell_type": "markdown",
   "metadata": {},
   "source": [
    "### Missing Data: Removing \"Don't Know\"/\"Unsure\" Answers"
   ]
  },
  {
   "cell_type": "code",
   "execution_count": 81,
   "metadata": {},
   "outputs": [
    {
     "name": "stdout",
     "output_type": "stream",
     "text": [
      "+----+--------+-------+-------+-------+------+--------+--------+-------+--------+-------+--------+-------+--------+--------+------+--------+--------+------+-------+-------+--------+-------+------+--------+--------+------+------+------+--------+--------+--------+--------+--------+--------+--------+--------+--------+--------+--------+--------+--------+--------+-------+--------+--------+--------+--------+--------+--------+--------+--------+--------+--------+--------+--------+--------+--------+--------+--------+--------+--------+--------+--------+--------+--------+-------+--------+--------+--------+--------+--------+------+-------+-------+--------+-------+--------+------+------+--------+-------+--------+--------+------+------+------+--------+--------+--------+--------+--------+--------+--------+--------+--------+--------+--------+--------+-------+------+------+------+------+------+------+------+-------+------+-------+-------+-------+-------+-------+-------+-------+-------+-------+-------+-------+-------+-------+------+-------+-------+-------+-------+-------+-------+------+------+------+------+------+------+------+-------+-------+-------+-------+-------+-------+-------+-------+-------+-------+-------+-------+-------+------+--------+--------+\n",
      "|SEQN|LBDLYMNO|LBDMONO|LBDEONO|LBDBANO|LBXHCT|LBXMCHSI|LBXPLTSI|LBXNRBC|LBXHSCRP|LBDTCSI|LBDLDNSI|LBDINSI|DSDCOUNT|DSDANCNT|DSD010|DSD010AN|DSQTLYCO|DSQTLZ|DSQTVB1|DSQTVB2|DSQTNIAC|DSQTVB6|DSQTFA|DSQTFDFE|DSQTVB12|DSQTVC|DSQTVK|DSQTVD|DSQTCALC|DSQTPHOS|DSQTMAGN|DSQTIRON|DSQTZINC|DSQTCOPP|DSQTSODI|DSQTPOTA|DSQTSELE|DSQTIODI|RIAGENDR|RIDAGEYR|RIDRETH3|DMQMILIZ|DMQADFC|DMDBORN4|DMDCITZN|DMDEDUC3|DMDEDUC2|DMDMARTL|RIDEXPRG|DMDHHSIZ|DMDFMSIZ|INDFMPIR|DR1DRSTZ|DRQSPREP|DR1TPROT|DR1TCARB|DR1TSUGR|DR1TFIBE|DR1TTFAT|DR1TSFAT|DR1TMFAT|DR1TPFAT|DR1TCHOL|DR1TATOC|DR1TATOA|DR1TRET|DR1TVARA|DR1TACAR|DR1TBCAR|DR1TCRYP|DR1TLYCO|DR1TLZ|DR1TVB1|DR1TVB2|DR1TNIAC|DR1TVB6|DR1TFOLA|DR1TFA|DR1TFF|DR1TFDFE|DR1TCHL|DR1TVB12|DR1TB12A|DR1TVC|DR1TVD|DR1TVK|DR1TCALC|DR1TPHOS|DR1TMAGN|DR1TIRON|DR1TZINC|DR1TCOPP|DR1TSODI|DR1TPOTA|DR1TSELE|DR1TCAFF|DR1TTHEO|DR1TALCO|DR1_300|MCQ025|MCQ035|MCQ040|MCQ050|MCQ053|MCQ080|MCQ092|MCQ160A|MCQ195|MCQ160N|MCQ160B|MCQ160C|MCQ160D|MCQ160E|MCQ160F|MCQ160M|MCQ170M|MCQ160G|MCQ170K|MCQ160O|MCQ160L|MCQ170L|MCQ500|MCQ510A|MCQ510B|MCQ510C|MCQ510D|MCQ510E|MCQ510F|MCQ520|MCQ530|MCQ540|MCQ550|MCQ560|MCQ203|MCQ220|MCQ230A|MCQ230B|MCQ230C|MCQ300C|MCQ300A|MCQ366A|MCQ366B|MCQ366C|MCQ366D|MCQ371A|MCQ371B|MCQ371C|MCQ371D|OSQ230|LDL_mean|INS_mean|\n",
      "+----+--------+-------+-------+-------+------+--------+--------+-------+--------+-------+--------+-------+--------+--------+------+--------+--------+------+-------+-------+--------+-------+------+--------+--------+------+------+------+--------+--------+--------+--------+--------+--------+--------+--------+--------+--------+--------+--------+--------+--------+-------+--------+--------+--------+--------+--------+--------+--------+--------+--------+--------+--------+--------+--------+--------+--------+--------+--------+--------+--------+--------+--------+--------+-------+--------+--------+--------+--------+--------+------+-------+-------+--------+-------+--------+------+------+--------+-------+--------+--------+------+------+------+--------+--------+--------+--------+--------+--------+--------+--------+--------+--------+--------+--------+-------+------+------+------+------+------+------+------+-------+------+-------+-------+-------+-------+-------+-------+-------+-------+-------+-------+-------+-------+-------+------+-------+-------+-------+-------+-------+-------+------+------+------+------+------+------+------+-------+-------+-------+-------+-------+-------+-------+-------+-------+-------+-------+-------+-------+------+--------+--------+\n",
      "|   0|       0|      0|      0|      0|     0|       0|       0|      0|       0|      0|       0|      0|       0|       0|     0|       0|       0|     0|      0|      0|       0|      0|     0|       0|       0|     0|     0|     0|       0|       0|       0|       0|       0|       0|       0|       0|       0|       0|       0|       0|       0|       0|      0|       0|       0|       0|       0|       0|       0|       0|       0|       0|       0|       0|       0|       0|       0|       0|       0|       0|       0|       0|       0|       0|       0|      0|       0|       0|       0|       0|       0|     0|      0|      0|       0|      0|       0|     0|     0|       0|      0|       0|       0|     0|     0|     0|       0|       0|       0|       0|       0|       0|       0|       0|       0|       0|       0|       0|      0|    13|     0|     0|     0|     0|     0|     0|      0|     0|      0|      0|      0|      0|      0|      0|      0|      0|      0|      0|      0|      0|      0|     0|      0|      0|      0|      0|      0|      0|     0|     0|     0|     0|     0|     0|     0|      0|      0|      0|      0|      0|      0|      0|      0|      0|      0|      0|      0|      0|     0|       0|       0|\n",
      "+----+--------+-------+-------+-------+------+--------+--------+-------+--------+-------+--------+-------+--------+--------+------+--------+--------+------+-------+-------+--------+-------+------+--------+--------+------+------+------+--------+--------+--------+--------+--------+--------+--------+--------+--------+--------+--------+--------+--------+--------+-------+--------+--------+--------+--------+--------+--------+--------+--------+--------+--------+--------+--------+--------+--------+--------+--------+--------+--------+--------+--------+--------+--------+-------+--------+--------+--------+--------+--------+------+-------+-------+--------+-------+--------+------+------+--------+-------+--------+--------+------+------+------+--------+--------+--------+--------+--------+--------+--------+--------+--------+--------+--------+--------+-------+------+------+------+------+------+------+------+-------+------+-------+-------+-------+-------+-------+-------+-------+-------+-------+-------+-------+-------+-------+------+-------+-------+-------+-------+-------+-------+------+------+------+------+------+------+------+-------+-------+-------+-------+-------+-------+-------+-------+-------+-------+-------+-------+-------+------+--------+--------+\n",
      "\n"
     ]
    }
   ],
   "source": [
    "#finding counts of rows with null values 77777 and 99999 in medical questionnaires\n",
    "\n",
    "from pyspark.sql.functions import *\n",
    "rows = final_nhanes_over11.select([count(when(col(c).isin(77777, 99999), c)).alias(c) for c in final_nhanes_over11.columns]) \n",
    "rows.show() \n",
    "\n",
    "#very few of these, should be replaced with NAs"
   ]
  },
  {
   "cell_type": "code",
   "execution_count": 82,
   "metadata": {},
   "outputs": [],
   "source": [
    "#replacing 77777/99999 (missing/don't know) with Null\n",
    "final_nhanes_over11 = (final_nhanes_over11.replace(77777, None)).replace(99999,None)"
   ]
  },
  {
   "cell_type": "code",
   "execution_count": 83,
   "metadata": {},
   "outputs": [],
   "source": [
    "#drop nas\n",
    "final_nhanes_over11 = final_nhanes_over11.dropna()"
   ]
  },
  {
   "cell_type": "code",
   "execution_count": 84,
   "metadata": {},
   "outputs": [
    {
     "name": "stdout",
     "output_type": "stream",
     "text": [
      "+----+--------+-------+-------+-------+------+--------+--------+-------+--------+-------+--------+-------+--------+--------+------+--------+--------+------+-------+-------+--------+-------+------+--------+--------+------+------+------+--------+--------+--------+--------+--------+--------+--------+--------+--------+--------+--------+--------+--------+--------+-------+--------+--------+--------+--------+--------+--------+--------+--------+--------+--------+--------+--------+--------+--------+--------+--------+--------+--------+--------+--------+--------+--------+-------+--------+--------+--------+--------+--------+------+-------+-------+--------+-------+--------+------+------+--------+-------+--------+--------+------+------+------+--------+--------+--------+--------+--------+--------+--------+--------+--------+--------+--------+--------+-------+------+------+------+------+------+------+------+-------+------+-------+-------+-------+-------+-------+-------+-------+-------+-------+-------+-------+-------+-------+------+-------+-------+-------+-------+-------+-------+------+------+------+------+------+------+------+-------+-------+-------+-------+-------+-------+-------+-------+-------+-------+-------+-------+-------+------+--------+--------+\n",
      "|SEQN|LBDLYMNO|LBDMONO|LBDEONO|LBDBANO|LBXHCT|LBXMCHSI|LBXPLTSI|LBXNRBC|LBXHSCRP|LBDTCSI|LBDLDNSI|LBDINSI|DSDCOUNT|DSDANCNT|DSD010|DSD010AN|DSQTLYCO|DSQTLZ|DSQTVB1|DSQTVB2|DSQTNIAC|DSQTVB6|DSQTFA|DSQTFDFE|DSQTVB12|DSQTVC|DSQTVK|DSQTVD|DSQTCALC|DSQTPHOS|DSQTMAGN|DSQTIRON|DSQTZINC|DSQTCOPP|DSQTSODI|DSQTPOTA|DSQTSELE|DSQTIODI|RIAGENDR|RIDAGEYR|RIDRETH3|DMQMILIZ|DMQADFC|DMDBORN4|DMDCITZN|DMDEDUC3|DMDEDUC2|DMDMARTL|RIDEXPRG|DMDHHSIZ|DMDFMSIZ|INDFMPIR|DR1DRSTZ|DRQSPREP|DR1TPROT|DR1TCARB|DR1TSUGR|DR1TFIBE|DR1TTFAT|DR1TSFAT|DR1TMFAT|DR1TPFAT|DR1TCHOL|DR1TATOC|DR1TATOA|DR1TRET|DR1TVARA|DR1TACAR|DR1TBCAR|DR1TCRYP|DR1TLYCO|DR1TLZ|DR1TVB1|DR1TVB2|DR1TNIAC|DR1TVB6|DR1TFOLA|DR1TFA|DR1TFF|DR1TFDFE|DR1TCHL|DR1TVB12|DR1TB12A|DR1TVC|DR1TVD|DR1TVK|DR1TCALC|DR1TPHOS|DR1TMAGN|DR1TIRON|DR1TZINC|DR1TCOPP|DR1TSODI|DR1TPOTA|DR1TSELE|DR1TCAFF|DR1TTHEO|DR1TALCO|DR1_300|MCQ025|MCQ035|MCQ040|MCQ050|MCQ053|MCQ080|MCQ092|MCQ160A|MCQ195|MCQ160N|MCQ160B|MCQ160C|MCQ160D|MCQ160E|MCQ160F|MCQ160M|MCQ170M|MCQ160G|MCQ170K|MCQ160O|MCQ160L|MCQ170L|MCQ500|MCQ510A|MCQ510B|MCQ510C|MCQ510D|MCQ510E|MCQ510F|MCQ520|MCQ530|MCQ540|MCQ550|MCQ560|MCQ203|MCQ220|MCQ230A|MCQ230B|MCQ230C|MCQ300C|MCQ300A|MCQ366A|MCQ366B|MCQ366C|MCQ366D|MCQ371A|MCQ371B|MCQ371C|MCQ371D|OSQ230|LDL_mean|INS_mean|\n",
      "+----+--------+-------+-------+-------+------+--------+--------+-------+--------+-------+--------+-------+--------+--------+------+--------+--------+------+-------+-------+--------+-------+------+--------+--------+------+------+------+--------+--------+--------+--------+--------+--------+--------+--------+--------+--------+--------+--------+--------+--------+-------+--------+--------+--------+--------+--------+--------+--------+--------+--------+--------+--------+--------+--------+--------+--------+--------+--------+--------+--------+--------+--------+--------+-------+--------+--------+--------+--------+--------+------+-------+-------+--------+-------+--------+------+------+--------+-------+--------+--------+------+------+------+--------+--------+--------+--------+--------+--------+--------+--------+--------+--------+--------+--------+-------+------+------+------+------+------+------+------+-------+------+-------+-------+-------+-------+-------+-------+-------+-------+-------+-------+-------+-------+-------+------+-------+-------+-------+-------+-------+-------+------+------+------+------+------+------+------+-------+-------+-------+-------+-------+-------+-------+-------+-------+-------+-------+-------+-------+------+--------+--------+\n",
      "|   0|       0|      0|      0|      0|     0|       0|       0|      0|       0|      0|       0|      0|       0|       0|     0|       0|       0|     0|      0|      0|       0|      0|     0|       0|       0|     0|     0|     0|       0|       0|       0|       0|       0|       0|       0|       0|       0|       0|       0|       0|       0|       0|      0|       0|       0|       0|       0|       0|       0|       0|       0|       0|       0|       0|       0|       0|       0|       0|       0|       0|       0|       0|       0|       0|       0|      0|       0|       0|       0|       0|       0|     0|      0|      0|       0|      0|       0|     0|     0|       0|      0|       0|       0|     0|     0|     0|       0|       0|       0|       0|       0|       0|       0|       0|       0|       0|       0|       0|      0|     0|     0|     0|     0|     0|     0|     0|      0|     0|      0|      0|      0|      0|      0|      0|      0|      0|      0|      0|      0|      0|      0|     0|      0|      0|      0|      0|      0|      0|     0|     0|     0|     0|     0|     0|     0|      0|      0|      0|      0|      0|      0|      0|      0|      0|      0|      0|      0|      0|     0|       0|       0|\n",
      "+----+--------+-------+-------+-------+------+--------+--------+-------+--------+-------+--------+-------+--------+--------+------+--------+--------+------+-------+-------+--------+-------+------+--------+--------+------+------+------+--------+--------+--------+--------+--------+--------+--------+--------+--------+--------+--------+--------+--------+--------+-------+--------+--------+--------+--------+--------+--------+--------+--------+--------+--------+--------+--------+--------+--------+--------+--------+--------+--------+--------+--------+--------+--------+-------+--------+--------+--------+--------+--------+------+-------+-------+--------+-------+--------+------+------+--------+-------+--------+--------+------+------+------+--------+--------+--------+--------+--------+--------+--------+--------+--------+--------+--------+--------+-------+------+------+------+------+------+------+------+-------+------+-------+-------+-------+-------+-------+-------+-------+-------+-------+-------+-------+-------+-------+------+-------+-------+-------+-------+-------+-------+------+------+------+------+------+------+------+-------+-------+-------+-------+-------+-------+-------+-------+-------+-------+-------+-------+-------+------+--------+--------+\n",
      "\n"
     ]
    }
   ],
   "source": [
    "#checking results\n",
    "rows = final_nhanes_over11.select([count(when(col(c).isin(77777, 99999), c)).alias(c) for c in final_nhanes_over11.columns]) \n",
    "rows.show() \n",
    "\n",
    "#all 0s!"
   ]
  },
  {
   "cell_type": "markdown",
   "metadata": {},
   "source": [
    "### Feature Engineering: Creating Label column based on Medical Questionnaire Data"
   ]
  },
  {
   "cell_type": "code",
   "execution_count": 85,
   "metadata": {},
   "outputs": [],
   "source": [
    "#add a label column with value 1 for anyone with heart disease\n",
    "from pyspark.sql.functions import when\n",
    "\n",
    "final_nhanes_over_mod = final_nhanes_over11.withColumn(\n",
    "    \"label\", when(final_nhanes_over11.MCQ160B == 1,\"1\"\n",
    "                 )\\\n",
    "    .when(final_nhanes_over11.MCQ160C == 1,1)\\\n",
    "    .when(final_nhanes_over11.MCQ160D == 1,1)\\\n",
    "    .when(final_nhanes_over11.MCQ160E == 1,1)\\\n",
    "    .when(final_nhanes_over11.MCQ160F == 1,1)\\\n",
    "    .when(final_nhanes_over11.MCQ160O == 1,1)\\\n",
    "    .otherwise(0)) \n",
    "\n",
    "#if ever told had congestive heart failure, COPD, angina/angina pectoris, heart attack, or stroke, label = 1\n",
    "#if none of the above, label = 0"
   ]
  },
  {
   "cell_type": "code",
   "execution_count": 86,
   "metadata": {},
   "outputs": [
    {
     "name": "stdout",
     "output_type": "stream",
     "text": [
      "+-------+-------+-------+-------+-------+-----+\n",
      "|MCQ160C|MCQ160D|MCQ160E|MCQ160F|MCQ160O|label|\n",
      "+-------+-------+-------+-------+-------+-----+\n",
      "|      2|      2|      2|      2|      2|    0|\n",
      "|      0|      0|      0|      0|      0|    0|\n",
      "|      0|      0|      0|      0|      0|    0|\n",
      "|      2|      2|      2|      2|      2|    0|\n",
      "|      2|      2|      2|      2|      2|    0|\n",
      "|      0|      0|      0|      0|      0|    0|\n",
      "|      2|      2|      2|      2|      2|    0|\n",
      "|      2|      2|      2|      2|      2|    0|\n",
      "|      2|      2|      2|      2|      1|    1|\n",
      "|      2|      2|      2|      2|      2|    0|\n",
      "+-------+-------+-------+-------+-------+-----+\n",
      "only showing top 10 rows\n",
      "\n"
     ]
    }
   ],
   "source": [
    "final_nhanes_over_mod.select('MCQ160C','MCQ160D','MCQ160E','MCQ160F','MCQ160O','label').show(10)\n",
    "#if any of these columns = 1, then label should also = 1"
   ]
  },
  {
   "cell_type": "code",
   "execution_count": 87,
   "metadata": {},
   "outputs": [],
   "source": [
    "heartCols = ('MCD180B', 'MCQ160C', 'MCQ160D', 'MCQ160E', 'MCQ160F', 'MCQ160O')"
   ]
  },
  {
   "cell_type": "code",
   "execution_count": 88,
   "metadata": {},
   "outputs": [],
   "source": [
    "#removing heart disease columns from categorical variable list\n",
    "for ele in cat_variables:\n",
    "    if ele in heartCols:\n",
    "        cat_variables.remove(ele)"
   ]
  },
  {
   "cell_type": "code",
   "execution_count": 89,
   "metadata": {},
   "outputs": [],
   "source": [
    "cat_variables=[x for x in cat_variables if x not in heartCols]"
   ]
  },
  {
   "cell_type": "code",
   "execution_count": 90,
   "metadata": {},
   "outputs": [],
   "source": [
    "final_nhanes_over_mod=final_nhanes_over_mod.drop(*heartCols)\n",
    "#removing columns from feature engineering from the dataset"
   ]
  },
  {
   "cell_type": "markdown",
   "metadata": {},
   "source": [
    "### Feature Engineering/Pipeline: One-Hot Encoding Categorical Variables"
   ]
  },
  {
   "cell_type": "code",
   "execution_count": 91,
   "metadata": {},
   "outputs": [],
   "source": [
    "#apply one hot encoding to all categorical variables\n",
    "from pyspark.ml import Pipeline\n",
    "from pyspark.ml.feature import OneHotEncoder\n",
    "from pyspark.ml.linalg import Vectors\n",
    "\n",
    "stage_one_hot = [OneHotEncoder(inputCol= c, outputCol= c+ \"_one_hot\") for c in cat_variables]\n",
    "\n",
    "ppl = Pipeline(stages= stage_one_hot)\n",
    "final_nhanes_over11_encoded = ppl.fit(final_nhanes_over_mod).transform(final_nhanes_over_mod)"
   ]
  },
  {
   "cell_type": "code",
   "execution_count": 92,
   "metadata": {},
   "outputs": [],
   "source": [
    "final_nhanes_over11_encoded=final_nhanes_over11_encoded.drop(*cat_variables)\n"
   ]
  },
  {
   "cell_type": "code",
   "execution_count": 93,
   "metadata": {},
   "outputs": [
    {
     "name": "stdout",
     "output_type": "stream",
     "text": [
      "+----------------+----------------+\n",
      "|RIAGENDR_one_hot|RIDRETH3_one_hot|\n",
      "+----------------+----------------+\n",
      "|       (2,[],[])|   (7,[4],[1.0])|\n",
      "|   (2,[1],[1.0])|   (7,[6],[1.0])|\n",
      "|   (2,[1],[1.0])|       (7,[],[])|\n",
      "|       (2,[],[])|   (7,[6],[1.0])|\n",
      "|   (2,[1],[1.0])|   (7,[6],[1.0])|\n",
      "|   (2,[1],[1.0])|   (7,[1],[1.0])|\n",
      "|   (2,[1],[1.0])|   (7,[3],[1.0])|\n",
      "|       (2,[],[])|   (7,[4],[1.0])|\n",
      "|   (2,[1],[1.0])|       (7,[],[])|\n",
      "|   (2,[1],[1.0])|   (7,[6],[1.0])|\n",
      "+----------------+----------------+\n",
      "only showing top 10 rows\n",
      "\n"
     ]
    }
   ],
   "source": [
    "final_nhanes_over11_encoded.select([\"RIAGENDR_one_hot\",\"RIDRETH3_one_hot\"]).show(10)"
   ]
  },
  {
   "cell_type": "code",
   "execution_count": 94,
   "metadata": {},
   "outputs": [],
   "source": [
    "#convert label to DoubleType format\n",
    "from pyspark.sql.types import DoubleType\n",
    "final_nhanes_over11_encoded = final_nhanes_over11_encoded.withColumn(\"label\", final_nhanes_over11_encoded.label.cast(DoubleType()))\n"
   ]
  },
  {
   "cell_type": "code",
   "execution_count": 95,
   "metadata": {},
   "outputs": [
    {
     "name": "stdout",
     "output_type": "stream",
     "text": [
      "+-----+\n",
      "|label|\n",
      "+-----+\n",
      "|  0.0|\n",
      "|  0.0|\n",
      "|  0.0|\n",
      "|  0.0|\n",
      "|  0.0|\n",
      "|  0.0|\n",
      "|  0.0|\n",
      "|  0.0|\n",
      "|  1.0|\n",
      "|  0.0|\n",
      "+-----+\n",
      "only showing top 10 rows\n",
      "\n"
     ]
    }
   ],
   "source": [
    "final_nhanes_over11_encoded.select(\"label\").show(10)"
   ]
  },
  {
   "cell_type": "markdown",
   "metadata": {},
   "source": [
    "### Feature Engineering: Creating Features Column using VectorAssembler"
   ]
  },
  {
   "cell_type": "code",
   "execution_count": 96,
   "metadata": {},
   "outputs": [],
   "source": [
    "from pyspark.ml.feature import VectorAssembler\n",
    "from pyspark.ml.feature import StandardScaler"
   ]
  },
  {
   "cell_type": "code",
   "execution_count": 97,
   "metadata": {},
   "outputs": [
    {
     "data": {
      "text/plain": [
       "['SEQN',\n",
       " 'LBDLYMNO',\n",
       " 'LBDMONO',\n",
       " 'LBDEONO',\n",
       " 'LBDBANO',\n",
       " 'LBXHCT',\n",
       " 'LBXMCHSI',\n",
       " 'LBXPLTSI',\n",
       " 'LBXNRBC',\n",
       " 'LBXHSCRP',\n",
       " 'LBDTCSI',\n",
       " 'LBDLDNSI',\n",
       " 'LBDINSI',\n",
       " 'DSDCOUNT',\n",
       " 'DSDANCNT',\n",
       " 'DSQTLYCO',\n",
       " 'DSQTLZ',\n",
       " 'DSQTVB1',\n",
       " 'DSQTVB2',\n",
       " 'DSQTNIAC',\n",
       " 'DSQTVB6',\n",
       " 'DSQTFA',\n",
       " 'DSQTFDFE',\n",
       " 'DSQTVB12',\n",
       " 'DSQTVC',\n",
       " 'DSQTVK',\n",
       " 'DSQTVD',\n",
       " 'DSQTCALC',\n",
       " 'DSQTPHOS',\n",
       " 'DSQTMAGN',\n",
       " 'DSQTIRON',\n",
       " 'DSQTZINC',\n",
       " 'DSQTCOPP',\n",
       " 'DSQTSODI',\n",
       " 'DSQTPOTA',\n",
       " 'DSQTSELE',\n",
       " 'DSQTIODI',\n",
       " 'RIDAGEYR',\n",
       " 'DMDHHSIZ',\n",
       " 'DMDFMSIZ',\n",
       " 'INDFMPIR',\n",
       " 'DR1TPROT',\n",
       " 'DR1TCARB',\n",
       " 'DR1TSUGR',\n",
       " 'DR1TFIBE',\n",
       " 'DR1TTFAT',\n",
       " 'DR1TSFAT',\n",
       " 'DR1TMFAT',\n",
       " 'DR1TPFAT',\n",
       " 'DR1TCHOL',\n",
       " 'DR1TATOC',\n",
       " 'DR1TATOA',\n",
       " 'DR1TRET',\n",
       " 'DR1TVARA',\n",
       " 'DR1TACAR',\n",
       " 'DR1TBCAR',\n",
       " 'DR1TCRYP',\n",
       " 'DR1TLYCO',\n",
       " 'DR1TLZ',\n",
       " 'DR1TVB1',\n",
       " 'DR1TVB2',\n",
       " 'DR1TNIAC',\n",
       " 'DR1TVB6',\n",
       " 'DR1TFOLA',\n",
       " 'DR1TFA',\n",
       " 'DR1TFF',\n",
       " 'DR1TFDFE',\n",
       " 'DR1TCHL',\n",
       " 'DR1TVB12',\n",
       " 'DR1TB12A',\n",
       " 'DR1TVC',\n",
       " 'DR1TVD',\n",
       " 'DR1TVK',\n",
       " 'DR1TCALC',\n",
       " 'DR1TPHOS',\n",
       " 'DR1TMAGN',\n",
       " 'DR1TIRON',\n",
       " 'DR1TZINC',\n",
       " 'DR1TCOPP',\n",
       " 'DR1TSODI',\n",
       " 'DR1TPOTA',\n",
       " 'DR1TSELE',\n",
       " 'DR1TCAFF',\n",
       " 'DR1TTHEO',\n",
       " 'DR1TALCO',\n",
       " 'LDL_mean',\n",
       " 'INS_mean',\n",
       " 'label',\n",
       " 'RIAGENDR_one_hot',\n",
       " 'RIDRETH3_one_hot',\n",
       " 'DMQMILIZ_one_hot',\n",
       " 'DMQADFC_one_hot',\n",
       " 'DMDBORN4_one_hot',\n",
       " 'DMDCITZN_one_hot',\n",
       " 'DMDEDUC3_one_hot',\n",
       " 'DMDEDUC2_one_hot',\n",
       " 'DMDMARTL_one_hot',\n",
       " 'RIDEXPRG_one_hot',\n",
       " 'DSD010_one_hot',\n",
       " 'DSD010AN_one_hot',\n",
       " 'DR1DRSTZ_one_hot',\n",
       " 'DRQSPREP_one_hot',\n",
       " 'DR1_300_one_hot',\n",
       " 'MCQ025_one_hot',\n",
       " 'MCQ035_one_hot',\n",
       " 'MCQ040_one_hot',\n",
       " 'MCQ050_one_hot',\n",
       " 'MCQ053_one_hot',\n",
       " 'MCQ080_one_hot',\n",
       " 'MCQ092_one_hot',\n",
       " 'MCQ160A_one_hot',\n",
       " 'MCQ195_one_hot',\n",
       " 'MCQ160N_one_hot',\n",
       " 'MCQ160B_one_hot',\n",
       " 'MCQ160M_one_hot',\n",
       " 'MCQ170M_one_hot',\n",
       " 'MCQ160G_one_hot',\n",
       " 'MCQ170K_one_hot',\n",
       " 'MCQ160L_one_hot',\n",
       " 'MCQ170L_one_hot',\n",
       " 'MCQ500_one_hot',\n",
       " 'MCQ510A_one_hot',\n",
       " 'MCQ510B_one_hot',\n",
       " 'MCQ510C_one_hot',\n",
       " 'MCQ510D_one_hot',\n",
       " 'MCQ510E_one_hot',\n",
       " 'MCQ510F_one_hot',\n",
       " 'MCQ520_one_hot',\n",
       " 'MCQ530_one_hot',\n",
       " 'MCQ540_one_hot',\n",
       " 'MCQ550_one_hot',\n",
       " 'MCQ560_one_hot',\n",
       " 'MCQ203_one_hot',\n",
       " 'MCQ220_one_hot',\n",
       " 'MCQ230A_one_hot',\n",
       " 'MCQ230B_one_hot',\n",
       " 'MCQ230C_one_hot',\n",
       " 'MCQ300C_one_hot',\n",
       " 'MCQ300A_one_hot',\n",
       " 'MCQ366A_one_hot',\n",
       " 'MCQ366B_one_hot',\n",
       " 'MCQ366C_one_hot',\n",
       " 'MCQ366D_one_hot',\n",
       " 'MCQ371A_one_hot',\n",
       " 'MCQ371B_one_hot',\n",
       " 'MCQ371C_one_hot',\n",
       " 'MCQ371D_one_hot',\n",
       " 'OSQ230_one_hot']"
      ]
     },
     "execution_count": 97,
     "metadata": {},
     "output_type": "execute_result"
    }
   ],
   "source": [
    "final_nhanes_over11_encoded.columns"
   ]
  },
  {
   "cell_type": "code",
   "execution_count": 98,
   "metadata": {},
   "outputs": [
    {
     "name": "stdout",
     "output_type": "stream",
     "text": [
      "['LBDLYMNO', 'LBDMONO', 'LBDEONO', 'LBDBANO', 'LBXHCT', 'LBXMCHSI', 'LBXPLTSI', 'LBXNRBC', 'LBXHSCRP', 'LBDTCSI', 'LBDLDNSI', 'LBDINSI', 'DSDCOUNT', 'DSDANCNT', 'DSQTLYCO', 'DSQTLZ', 'DSQTVB1', 'DSQTVB2', 'DSQTNIAC', 'DSQTVB6', 'DSQTFA', 'DSQTFDFE', 'DSQTVB12', 'DSQTVC', 'DSQTVK', 'DSQTVD', 'DSQTCALC', 'DSQTPHOS', 'DSQTMAGN', 'DSQTIRON', 'DSQTZINC', 'DSQTCOPP', 'DSQTSODI', 'DSQTPOTA', 'DSQTSELE', 'DSQTIODI', 'RIDAGEYR', 'DMDHHSIZ', 'DMDFMSIZ', 'INDFMPIR', 'DR1TPROT', 'DR1TCARB', 'DR1TSUGR', 'DR1TFIBE', 'DR1TTFAT', 'DR1TSFAT', 'DR1TMFAT', 'DR1TPFAT', 'DR1TCHOL', 'DR1TATOC', 'DR1TATOA', 'DR1TRET', 'DR1TVARA', 'DR1TACAR', 'DR1TBCAR', 'DR1TCRYP', 'DR1TLYCO', 'DR1TLZ', 'DR1TVB1', 'DR1TVB2', 'DR1TNIAC', 'DR1TVB6', 'DR1TFOLA', 'DR1TFA', 'DR1TFF', 'DR1TFDFE', 'DR1TCHL', 'DR1TVB12', 'DR1TB12A', 'DR1TVC', 'DR1TVD', 'DR1TVK', 'DR1TCALC', 'DR1TPHOS', 'DR1TMAGN', 'DR1TIRON', 'DR1TZINC', 'DR1TCOPP', 'DR1TSODI', 'DR1TPOTA', 'DR1TSELE', 'DR1TCAFF', 'DR1TTHEO', 'DR1TALCO', 'LDL_mean', 'INS_mean', 'label', 'RIAGENDR_one_hot', 'RIDRETH3_one_hot', 'DMQMILIZ_one_hot', 'DMQADFC_one_hot', 'DMDBORN4_one_hot', 'DMDCITZN_one_hot', 'DMDEDUC3_one_hot', 'DMDEDUC2_one_hot', 'DMDMARTL_one_hot', 'RIDEXPRG_one_hot', 'DSD010_one_hot', 'DSD010AN_one_hot', 'DR1DRSTZ_one_hot', 'DRQSPREP_one_hot', 'DR1_300_one_hot', 'MCQ025_one_hot', 'MCQ035_one_hot', 'MCQ040_one_hot', 'MCQ050_one_hot', 'MCQ053_one_hot', 'MCQ080_one_hot', 'MCQ092_one_hot', 'MCQ160A_one_hot', 'MCQ195_one_hot', 'MCQ160N_one_hot', 'MCQ160B_one_hot', 'MCQ160M_one_hot', 'MCQ170M_one_hot', 'MCQ160G_one_hot', 'MCQ170K_one_hot', 'MCQ160L_one_hot', 'MCQ170L_one_hot', 'MCQ500_one_hot', 'MCQ510A_one_hot', 'MCQ510B_one_hot', 'MCQ510C_one_hot', 'MCQ510D_one_hot', 'MCQ510E_one_hot', 'MCQ510F_one_hot', 'MCQ520_one_hot', 'MCQ530_one_hot', 'MCQ540_one_hot', 'MCQ550_one_hot', 'MCQ560_one_hot', 'MCQ203_one_hot', 'MCQ220_one_hot', 'MCQ230A_one_hot', 'MCQ230B_one_hot', 'MCQ230C_one_hot', 'MCQ300C_one_hot', 'MCQ300A_one_hot', 'MCQ366A_one_hot', 'MCQ366B_one_hot', 'MCQ366C_one_hot', 'MCQ366D_one_hot', 'MCQ371A_one_hot', 'MCQ371B_one_hot', 'MCQ371C_one_hot', 'MCQ371D_one_hot', 'OSQ230_one_hot']\n"
     ]
    }
   ],
   "source": [
    "#select all coloumns from dataframes for independent variable\n",
    "ind_vars = [x for x in final_nhanes_over11_encoded.columns if x not in 'SEQN' and 'label']\n",
    "#independent variables include everything except participant # and label (heart disease indicator)\n",
    "\n",
    "print(ind_vars)"
   ]
  },
  {
   "cell_type": "code",
   "execution_count": 99,
   "metadata": {},
   "outputs": [],
   "source": [
    "#make a list of independent variables exclude label column and columns used to come up with label\n",
    "assembler=VectorAssembler(inputCols=ind_vars,outputCol=\"features\")\n",
    "nhanes_modelDf=assembler.transform(final_nhanes_over11_encoded)"
   ]
  },
  {
   "cell_type": "code",
   "execution_count": 100,
   "metadata": {},
   "outputs": [
    {
     "name": "stdout",
     "output_type": "stream",
     "text": [
      "+------------------------------------------------------------------------------------------------------------------------------------------------------------------------------------------------------------------------------------------------------------------------------------------------------------------------------------------------------------------------------------------------------------------------------------------------------------------------------------------------------------------------------------------------------------------------------------------------------------------------------------------------------------------------------------------------------------------------------------------------------------------------------------------------------------------------------------------------------------------------------------------------------------------------------------------------------------------------------------------------------------------------------------------------------------------------------------------------------------------------------------------------------------------------------------------------------------------------------------------------+\n",
      "|features                                                                                                                                                                                                                                                                                                                                                                                                                                                                                                                                                                                                                                                                                                                                                                                                                                                                                                                                                                                                                                                                                                                                                                                                                                        |\n",
      "+------------------------------------------------------------------------------------------------------------------------------------------------------------------------------------------------------------------------------------------------------------------------------------------------------------------------------------------------------------------------------------------------------------------------------------------------------------------------------------------------------------------------------------------------------------------------------------------------------------------------------------------------------------------------------------------------------------------------------------------------------------------------------------------------------------------------------------------------------------------------------------------------------------------------------------------------------------------------------------------------------------------------------------------------------------------------------------------------------------------------------------------------------------------------------------------------------------------------------------------------+\n",
      "|(1080,[0,1,2,3,4,5,6,8,9,10,11,12,14,15,16,17,18,19,20,21,22,23,24,25,26,27,28,29,30,31,32,33,34,35,36,37,38,39,40,41,42,43,44,45,46,47,48,49,51,52,53,54,55,56,57,58,59,60,61,62,63,64,65,66,67,69,70,71,72,73,74,75,76,77,78,79,80,81,82,84,85,93,98,105,113,212,220,288,298,372,376,386,395,403,420,492,499,508,512,521,530,538,548,557,566,575,582,593,600,611,618,627,629,728,730,733,737,742,750,757,766,770,779,788,797,804,903,942,982,992,1001,1010,1019,1028,1036,1045,1054,1063,1073],[3.4,0.6,0.2,0.1,36.7,21.7,309.0,2.72,4.06,2.9431249999999998,82.305,8.0,300.0,250.0,35.39,8.923,31.1,4.22,645.0,1096.0,114.22,616.67,10.0,20.557,211.67,48.0,100.0,0.733,15.8333,2.0,5.0,110.0,21.4,150.0,66.0,1.0,1.0,0.82,20.01,157.45,91.55,8.4,56.98,16.435,16.432,19.786,14.0,5.66,32.0,436.0,1551.0,4096.0,2.0,1573.0,1645.0,0.589,1.237,7.576,0.458,179.0,32.0,146.0,202.0,95.0,0.33,21.4,0.2,155.5,314.0,466.0,162.0,8.8,2.93,0.689,3574.0,1640.0,22.1,361.0,120.0,2.9431249999999998,82.305,1.0,1.0,1.0,1.0,1.0,1.0,1.0,1.0,1.0,1.0,1.0,1.0,1.0,1.0,1.0,1.0,1.0,1.0,1.0,1.0,1.0,1.0,1.0,1.0,1.0,1.0,1.0,1.0,1.0,1.0,1.0,1.0,1.0,1.0,1.0,1.0,1.0,1.0,1.0,1.0,1.0,1.0,1.0,1.0,1.0,1.0,1.0,1.0,1.0,1.0,1.0,1.0,1.0,1.0,1.0,1.0,1.0,1.0])|\n",
      "+------------------------------------------------------------------------------------------------------------------------------------------------------------------------------------------------------------------------------------------------------------------------------------------------------------------------------------------------------------------------------------------------------------------------------------------------------------------------------------------------------------------------------------------------------------------------------------------------------------------------------------------------------------------------------------------------------------------------------------------------------------------------------------------------------------------------------------------------------------------------------------------------------------------------------------------------------------------------------------------------------------------------------------------------------------------------------------------------------------------------------------------------------------------------------------------------------------------------------------------------+\n",
      "only showing top 1 row\n",
      "\n"
     ]
    }
   ],
   "source": [
    "nhanes_modelDf.select(\"features\").show(1, truncate=False)"
   ]
  },
  {
   "cell_type": "markdown",
   "metadata": {},
   "source": [
    "### Feature Enginering: Scaling Numeric Variables"
   ]
  },
  {
   "cell_type": "code",
   "execution_count": 101,
   "metadata": {},
   "outputs": [],
   "source": [
    "# Feature scaling\n",
    "import os\n",
    "os.environ['SPARK_HOME'] = \"C:/Spark/spark-1.4.1-bin-hadoop2.6\"\n",
    "sc.setCheckpointDir('checkpoint')\n",
    "\n",
    "# Initialize the `standardScaler`\n",
    "standardScaler = StandardScaler(inputCol=\"features\", outputCol=\"features_scaled\", \n",
    "                                withStd=True, withMean=False)\n",
    "\n",
    "# Fit the DataFrame to the scaler; this computes the mean, standard deviation of each feature\n",
    "scaler = standardScaler.fit(nhanes_modelDf)\n",
    "\n",
    "# Transform the data in `nhanes_modelDf` with the scaler\n",
    "scaled_df = scaler.transform(nhanes_modelDf)"
   ]
  },
  {
   "cell_type": "markdown",
   "metadata": {},
   "source": [
    "### Upsampling for Unbalanced Groups"
   ]
  },
  {
   "cell_type": "code",
   "execution_count": 102,
   "metadata": {},
   "outputs": [
    {
     "name": "stdout",
     "output_type": "stream",
     "text": [
      "+-----+-----+\n",
      "|label|count|\n",
      "+-----+-----+\n",
      "|  0.0| 5060|\n",
      "|  1.0|  714|\n",
      "+-----+-----+\n",
      "\n"
     ]
    }
   ],
   "source": [
    "# compute distribution of label\n",
    "scaled_df.groupBy(\"label\").count().show()\n"
   ]
  },
  {
   "cell_type": "code",
   "execution_count": 103,
   "metadata": {},
   "outputs": [
    {
     "data": {
      "text/plain": [
       "DataFrame[SEQN: bigint, LBDLYMNO: double, LBDMONO: double, LBDEONO: double, LBDBANO: double, LBXHCT: double, LBXMCHSI: double, LBXPLTSI: bigint, LBXNRBC: double, LBXHSCRP: double, LBDTCSI: double, LBDLDNSI: double, LBDINSI: double, DSDCOUNT: double, DSDANCNT: double, DSQTLYCO: bigint, DSQTLZ: bigint, DSQTVB1: double, DSQTVB2: double, DSQTNIAC: double, DSQTVB6: double, DSQTFA: bigint, DSQTFDFE: bigint, DSQTVB12: double, DSQTVC: double, DSQTVK: double, DSQTVD: double, DSQTCALC: double, DSQTPHOS: double, DSQTMAGN: double, DSQTIRON: double, DSQTZINC: double, DSQTCOPP: double, DSQTSODI: double, DSQTPOTA: double, DSQTSELE: double, DSQTIODI: double, RIDAGEYR: double, DMDHHSIZ: bigint, DMDFMSIZ: bigint, INDFMPIR: double, DR1TPROT: double, DR1TCARB: double, DR1TSUGR: double, DR1TFIBE: double, DR1TTFAT: double, DR1TSFAT: double, DR1TMFAT: double, DR1TPFAT: double, DR1TCHOL: bigint, DR1TATOC: double, DR1TATOA: double, DR1TRET: bigint, DR1TVARA: bigint, DR1TACAR: bigint, DR1TBCAR: bigint, DR1TCRYP: bigint, DR1TLYCO: bigint, DR1TLZ: bigint, DR1TVB1: double, DR1TVB2: double, DR1TNIAC: double, DR1TVB6: double, DR1TFOLA: bigint, DR1TFA: bigint, DR1TFF: bigint, DR1TFDFE: bigint, DR1TCHL: double, DR1TVB12: double, DR1TB12A: double, DR1TVC: double, DR1TVD: double, DR1TVK: double, DR1TCALC: bigint, DR1TPHOS: bigint, DR1TMAGN: bigint, DR1TIRON: double, DR1TZINC: double, DR1TCOPP: double, DR1TSODI: bigint, DR1TPOTA: bigint, DR1TSELE: double, DR1TCAFF: bigint, DR1TTHEO: bigint, DR1TALCO: double, LDL_mean: double, INS_mean: double, label: double, RIAGENDR_one_hot: vector, RIDRETH3_one_hot: vector, DMQMILIZ_one_hot: vector, DMQADFC_one_hot: vector, DMDBORN4_one_hot: vector, DMDCITZN_one_hot: vector, DMDEDUC3_one_hot: vector, DMDEDUC2_one_hot: vector, DMDMARTL_one_hot: vector, RIDEXPRG_one_hot: vector, DSD010_one_hot: vector, DSD010AN_one_hot: vector, DR1DRSTZ_one_hot: vector, DRQSPREP_one_hot: vector, DR1_300_one_hot: vector, MCQ025_one_hot: vector, MCQ035_one_hot: vector, MCQ040_one_hot: vector, MCQ050_one_hot: vector, MCQ053_one_hot: vector, MCQ080_one_hot: vector, MCQ092_one_hot: vector, MCQ160A_one_hot: vector, MCQ195_one_hot: vector, MCQ160N_one_hot: vector, MCQ160B_one_hot: vector, MCQ160M_one_hot: vector, MCQ170M_one_hot: vector, MCQ160G_one_hot: vector, MCQ170K_one_hot: vector, MCQ160L_one_hot: vector, MCQ170L_one_hot: vector, MCQ500_one_hot: vector, MCQ510A_one_hot: vector, MCQ510B_one_hot: vector, MCQ510C_one_hot: vector, MCQ510D_one_hot: vector, MCQ510E_one_hot: vector, MCQ510F_one_hot: vector, MCQ520_one_hot: vector, MCQ530_one_hot: vector, MCQ540_one_hot: vector, MCQ550_one_hot: vector, MCQ560_one_hot: vector, MCQ203_one_hot: vector, MCQ220_one_hot: vector, MCQ230A_one_hot: vector, MCQ230B_one_hot: vector, MCQ230C_one_hot: vector, MCQ300C_one_hot: vector, MCQ300A_one_hot: vector, MCQ366A_one_hot: vector, MCQ366B_one_hot: vector, MCQ366C_one_hot: vector, MCQ366D_one_hot: vector, MCQ371A_one_hot: vector, MCQ371B_one_hot: vector, MCQ371C_one_hot: vector, MCQ371D_one_hot: vector, OSQ230_one_hot: vector, features: vector, features_scaled: vector]"
      ]
     },
     "execution_count": 103,
     "metadata": {},
     "output_type": "execute_result"
    }
   ],
   "source": [
    "scaled_df.cache()\n"
   ]
  },
  {
   "cell_type": "code",
   "execution_count": 104,
   "metadata": {},
   "outputs": [],
   "source": [
    "#function for upsampling\n",
    "def upsample(df, target, positive_label, negative_label,SEED=314):\n",
    "\n",
    "    if df.filter(df[target] ==positive_label).count()<df.filter(df[target] ==negative_label).count():\n",
    "        frac=df.filter(df[target] ==negative_label).count()/df.filter(df[target] ==positive_label).count()\n",
    "\n",
    "        df_upsample=df.filter(df[target]==positive_label).sample(withReplacement=True,fraction=frac,seed=SEED)\n",
    "        df_noUp=df.filter(df[target]==negative_label)\n",
    "    elif df.filter(df[target] ==negative_label).count()<df.filter(df[target] ==positive_label).count():\n",
    "        frac=df.filter(df[target] ==positive_label).count()/df.filter(df[target] ==negative_label).count()\n",
    "\n",
    "        df_upsample=df.filter(df[target]==negative_label).sample(withReplacement=True,fraction=frac,seed=SEED)\n",
    "        df_noUp=df.filter(df[target]==positive_label)\n",
    "    \n",
    "    df_b=df_noUp.union(df_upsample)\n",
    "    \n",
    "    return df_b"
   ]
  },
  {
   "cell_type": "code",
   "execution_count": 105,
   "metadata": {},
   "outputs": [],
   "source": [
    "balanced_df= upsample (scaled_df, \"label\", 1, 0)"
   ]
  },
  {
   "cell_type": "code",
   "execution_count": 106,
   "metadata": {},
   "outputs": [
    {
     "name": "stdout",
     "output_type": "stream",
     "text": [
      "+-----+-----+\n",
      "|label|count|\n",
      "+-----+-----+\n",
      "|  0.0| 5060|\n",
      "|  1.0| 5157|\n",
      "+-----+-----+\n",
      "\n"
     ]
    }
   ],
   "source": [
    "balanced_df.groupBy('label').count().show()"
   ]
  },
  {
   "cell_type": "markdown",
   "metadata": {},
   "source": [
    "### Test/Train Split"
   ]
  },
  {
   "cell_type": "code",
   "execution_count": 107,
   "metadata": {},
   "outputs": [],
   "source": [
    "train, test = balanced_df.randomSplit([0.7, 0.3], seed=287192)"
   ]
  },
  {
   "cell_type": "markdown",
   "metadata": {},
   "source": [
    "# Modeling"
   ]
  },
  {
   "cell_type": "markdown",
   "metadata": {},
   "source": [
    "## Logistic Regression"
   ]
  },
  {
   "cell_type": "markdown",
   "metadata": {},
   "source": [
    "### Parameter Grid and Cross Validation"
   ]
  },
  {
   "cell_type": "code",
   "execution_count": 108,
   "metadata": {},
   "outputs": [],
   "source": [
    "from pyspark.ml.tuning import CrossValidator, ParamGridBuilder\n",
    "from pyspark.ml.classification import LogisticRegression\n",
    "from pyspark.ml.evaluation import BinaryClassificationEvaluator\n",
    "\n",
    "lr = LogisticRegression(maxIter=10)\n",
    "paramGrid = ParamGridBuilder().build()\n",
    "\n",
    "crossval = CrossValidator(estimator=lr,\n",
    "                          evaluator=BinaryClassificationEvaluator(),\n",
    "                          estimatorParamMaps=paramGrid,\n",
    "                          numFolds=5,\n",
    "                         seed=314)\n",
    "\n",
    "cvLR = crossval.fit(train)"
   ]
  },
  {
   "cell_type": "code",
   "execution_count": 109,
   "metadata": {},
   "outputs": [
    {
     "name": "stdout",
     "output_type": "stream",
     "text": [
      "+-----+----------+\n",
      "|label|prediction|\n",
      "+-----+----------+\n",
      "|  0.0|       0.0|\n",
      "|  0.0|       0.0|\n",
      "|  0.0|       0.0|\n",
      "|  0.0|       0.0|\n",
      "|  0.0|       0.0|\n",
      "+-----+----------+\n",
      "only showing top 5 rows\n",
      "\n"
     ]
    }
   ],
   "source": [
    "lrPred = cvLR.transform(test)\n",
    "lrPred.select('label','prediction').show(5)"
   ]
  },
  {
   "cell_type": "markdown",
   "metadata": {},
   "source": [
    "### Results"
   ]
  },
  {
   "cell_type": "code",
   "execution_count": 110,
   "metadata": {},
   "outputs": [],
   "source": [
    "#Spark docs for regression summary\n",
    "#https://spark.apache.org/docs/latest/api/python/reference/api/pyspark.ml.classification.LogisticRegressionSummary.html\n",
    "\n",
    "from pyspark.ml.evaluation import RegressionEvaluator\n",
    "from pyspark.ml.classification import LogisticRegression\n",
    "evaluator = RegressionEvaluator(predictionCol=\"prediction\", labelCol=\"label\")\n",
    "\n",
    "#getting summary\n",
    "trainingSummary = cvLR.bestModel.summary\n",
    "\n",
    "from pyspark.sql.types import StructType,StructField, StringType\n",
    "\n",
    "mse= str(evaluator.evaluate(lrPred, {evaluator.metricName: \"mse\"}))\n",
    "rs=str(evaluator.evaluate(lrPred, {evaluator.metricName:'r2'}))\n",
    "AUROC= str(trainingSummary.areaUnderROC)\n",
    "\n",
    "from pyspark.ml.evaluation import MulticlassClassificationEvaluator\n",
    "ev = MulticlassClassificationEvaluator()\n",
    "\n",
    "Accuracy=ev.evaluate(lrPred, {ev.metricName: \"accuracy\"})\n",
    "Precision_HD=ev.evaluate(lrPred, {ev.metricLabel: \"precisionByLabel\", ev.metricLabel: 1.0})\n",
    "Sensitivity_HD= ev.evaluate(lrPred, {ev.metricName: \"truePositiveRateByLabel\", ev.metricLabel: 1.0})\n",
    "Precision_con=ev.evaluate(lrPred, {ev.metricLabel: \"precisionByLabel\", ev.metricLabel: 0.0})\n",
    "Sensitivity_con=ev.evaluate(lrPred, {ev.metricName: \"truePositiveRateByLabel\", ev.metricLabel: 0.0})\n",
    "\n",
    "# Set the model threshold to maximize F-Measure\n",
    "fMeasure = trainingSummary.fMeasureByThreshold\n",
    "maxFMeasure = fMeasure.groupBy().max('F-Measure').select('max(F-Measure)').head()\n",
    "bestThreshold = fMeasure.where(fMeasure['F-Measure'] == maxFMeasure['max(F-Measure)']) \\\n",
    "    .select('threshold').head()['threshold']\n",
    "lr.setThreshold(bestThreshold)\n",
    "\n",
    "f1 = ev.evaluate(lrPred, {ev.metricName: \"f1\"})\n",
    "\n"
   ]
  },
  {
   "cell_type": "code",
   "execution_count": 111,
   "metadata": {},
   "outputs": [],
   "source": [
    "#Logistic Regression in Summary\n",
    "schema = StructType([\n",
    "        StructField('Metric', StringType(), True),\n",
    "        StructField('Result', StringType(), True),\n",
    "])\n",
    "df_summary_lr=spark.createDataFrame(schema=schema,data=[(\"mse\", mse),(\"R Squared\", rs),(\"AUROC\", AUROC),\n",
    "                                                        (\"Accuracy\", Accuracy),(\"Precision (heart disease)\", Precision_HD),\n",
    "                                                       (\"Sensitivity (heart disease)\", Sensitivity_HD),\n",
    "                                                        (\"Precision (control)\", Precision_con),\n",
    "                                                       (\"Sensitivity (control)\", Sensitivity_con),\n",
    "                                                       (\"F1\", f1)])\n",
    "\n",
    "df_summary_lr=df_summary_lr.select(\"metric\",round('Result',6).alias(\"Logistic Regression\"))\n"
   ]
  },
  {
   "cell_type": "code",
   "execution_count": 112,
   "metadata": {},
   "outputs": [
    {
     "name": "stdout",
     "output_type": "stream",
     "text": [
      "+---------------------------+-------------------+\n",
      "|metric                     |Logistic Regression|\n",
      "+---------------------------+-------------------+\n",
      "|mse                        |0.036482           |\n",
      "|R Squared                  |0.854052           |\n",
      "|AUROC                      |0.995205           |\n",
      "|Accuracy                   |0.963518           |\n",
      "|Precision (heart disease)  |0.963519           |\n",
      "|Sensitivity (heart disease)|0.960077           |\n",
      "|Precision (control)        |0.963519           |\n",
      "|Sensitivity (control)      |0.96704            |\n",
      "|F1                         |0.963519           |\n",
      "+---------------------------+-------------------+\n",
      "\n"
     ]
    }
   ],
   "source": [
    "df_summary_lr.show(truncate=False)"
   ]
  },
  {
   "cell_type": "markdown",
   "metadata": {},
   "source": [
    "### Confusion Matrix"
   ]
  },
  {
   "cell_type": "code",
   "execution_count": 113,
   "metadata": {},
   "outputs": [
    {
     "name": "stdout",
     "output_type": "stream",
     "text": [
      "[[1467.   50.]\n",
      " [  62. 1491.]]\n"
     ]
    }
   ],
   "source": [
    "#There doesn't seem to be confusion matrix capabilities for the df version of mllib\n",
    "#but there is within the multiclass metrics module for the rdd version\n",
    "#so first we need to cast the predictions/label values to float, then create an rdd\n",
    "\n",
    "from pyspark.mllib.evaluation import MulticlassMetrics\n",
    "from pyspark.sql.types import FloatType\n",
    "import pyspark.sql.functions as func\n",
    "\n",
    "#ordering by prediction/casting to float for rdd\n",
    "predLabels = lrPred.select(['prediction','label']).withColumn(\n",
    "    'label', func.col('label'\n",
    "                     ).cast(\n",
    "        FloatType())\n",
    ").orderBy('prediction')\n",
    "\n",
    "#selecting only prediction and label columns\n",
    "predLabels = predLabels.select(['prediction','label'])\n",
    "\n",
    "#casting to rdd/tuple for confusion matrix\n",
    "metrics = MulticlassMetrics(predLabels.rdd.map(tuple))\n",
    "\n",
    "print(metrics.confusionMatrix().toArray())"
   ]
  },
  {
   "cell_type": "markdown",
   "metadata": {},
   "source": [
    "## LASSO Regression"
   ]
  },
  {
   "cell_type": "markdown",
   "metadata": {},
   "source": [
    "### Parameter Grid and Cross Validation"
   ]
  },
  {
   "cell_type": "code",
   "execution_count": 114,
   "metadata": {},
   "outputs": [],
   "source": [
    "from pyspark.ml.tuning import CrossValidator, ParamGridBuilder\n",
    "from pyspark.ml.classification import LogisticRegression\n",
    "from pyspark.ml.evaluation import BinaryClassificationEvaluator\n",
    "\n",
    "lr = LogisticRegression(maxIter=10)\n",
    "\n",
    "paramGrid = ParamGridBuilder().addGrid(\n",
    "    lr.regParam, [.01, 0.1, 0.3]\n",
    ").addGrid(\n",
    "    lr.elasticNetParam, [0] #lasso\n",
    ").build()\n",
    "\n",
    "crossval = CrossValidator(estimator=lr,\n",
    "                          estimatorParamMaps=paramGrid,\n",
    "                          evaluator=BinaryClassificationEvaluator(),\n",
    "                          numFolds=5,\n",
    "                         seed=314)"
   ]
  },
  {
   "cell_type": "code",
   "execution_count": 115,
   "metadata": {},
   "outputs": [],
   "source": [
    "cvLasso = crossval.fit(train)"
   ]
  },
  {
   "cell_type": "code",
   "execution_count": 116,
   "metadata": {},
   "outputs": [
    {
     "name": "stdout",
     "output_type": "stream",
     "text": [
      "+-----+----------+\n",
      "|label|prediction|\n",
      "+-----+----------+\n",
      "|  0.0|       0.0|\n",
      "|  0.0|       0.0|\n",
      "|  0.0|       0.0|\n",
      "|  0.0|       0.0|\n",
      "|  0.0|       0.0|\n",
      "+-----+----------+\n",
      "only showing top 5 rows\n",
      "\n"
     ]
    }
   ],
   "source": [
    "cvPred = cvLasso.transform(test)\n",
    "cvPred.select('label','prediction').show(5)"
   ]
  },
  {
   "cell_type": "markdown",
   "metadata": {},
   "source": [
    "### Results"
   ]
  },
  {
   "cell_type": "code",
   "execution_count": 117,
   "metadata": {},
   "outputs": [
    {
     "name": "stdout",
     "output_type": "stream",
     "text": [
      "--------------------\n",
      "Best Model Hyperparameters\n",
      "Regularization Parameter:  0.1\n"
     ]
    }
   ],
   "source": [
    "#Spark docs for regression summary\n",
    "#https://spark.apache.org/docs/latest/api/python/reference/api/pyspark.ml.classification.LogisticRegressionSummary.html\n",
    "\n",
    "print('-'*20)\n",
    "print(\"Best Model Hyperparameters\")\n",
    "print(\"Regularization Parameter: \", cvLasso.bestModel.getRegParam())\n",
    "\n",
    "#getting summary\n",
    "trainingSummary = cvLasso.bestModel.summary\n",
    "\n",
    "from pyspark.sql.types import StructType,StructField, StringType\n",
    "\n",
    "mse= str(evaluator.evaluate(cvPred, {evaluator.metricName: \"mse\"}))\n",
    "rs=str(evaluator.evaluate(cvPred, {evaluator.metricName:'r2'}))\n",
    "AUROC= str(trainingSummary.areaUnderROC)\n",
    "\n",
    "from pyspark.ml.evaluation import MulticlassClassificationEvaluator\n",
    "ev = MulticlassClassificationEvaluator()\n",
    "\n",
    "Accuracy=ev.evaluate(cvPred, {ev.metricName: \"accuracy\"})\n",
    "Precision_HD=ev.evaluate(cvPred, {ev.metricLabel: \"precisionByLabel\", ev.metricLabel: 1.0})\n",
    "Sensitivity_HD= ev.evaluate(cvPred, {ev.metricName: \"truePositiveRateByLabel\", ev.metricLabel: 1.0})\n",
    "Precision_con=ev.evaluate(cvPred, {ev.metricLabel: \"precisionByLabel\", ev.metricLabel: 0.0})\n",
    "Sensitivity_con=ev.evaluate(cvPred, {ev.metricName: \"truePositiveRateByLabel\", ev.metricLabel: 0.0})\n",
    "\n",
    "# Set the model threshold to maximize F-Measure\n",
    "fMeasure = trainingSummary.fMeasureByThreshold\n",
    "maxFMeasure = fMeasure.groupBy().max('F-Measure').select('max(F-Measure)').head()\n",
    "bestThreshold = fMeasure.where(fMeasure['F-Measure'] == maxFMeasure['max(F-Measure)']) \\\n",
    "    .select('threshold').head()['threshold']\n",
    "lr.setThreshold(bestThreshold)\n",
    "\n",
    "f1 = ev.evaluate(cvPred, {ev.metricName: \"f1\"})\n"
   ]
  },
  {
   "cell_type": "code",
   "execution_count": 118,
   "metadata": {},
   "outputs": [
    {
     "name": "stdout",
     "output_type": "stream",
     "text": [
      "+---------------------------+--------+\n",
      "|metric                     |LR-Lasso|\n",
      "+---------------------------+--------+\n",
      "|mse                        |0.016612|\n",
      "|R Squared                  |0.933541|\n",
      "|AUROC                      |0.999559|\n",
      "|Accuracy                   |0.983388|\n",
      "|Precision (heart disease)  |0.983384|\n",
      "|Sensitivity (heart disease)|0.992917|\n",
      "|Precision (control)        |0.983384|\n",
      "|Sensitivity (control)      |0.973632|\n",
      "|F1                         |0.983384|\n",
      "+---------------------------+--------+\n",
      "\n"
     ]
    }
   ],
   "source": [
    "#Lasso Logistic Regression in Summary\n",
    "schema = StructType([\n",
    "        StructField('Metric', StringType(), True),\n",
    "        StructField('Result', StringType(), True),\n",
    "])\n",
    "df_summary_lasso=spark.createDataFrame(schema=schema,data=[(\"mse\", mse),(\"R Squared\", rs),(\"AUROC\", AUROC),\n",
    "                                                        (\"Accuracy\", Accuracy),(\"Precision (heart disease)\", Precision_HD),\n",
    "                                                       (\"Sensitivity (heart disease)\", Sensitivity_HD),\n",
    "                                                        (\"Precision (control)\", Precision_con),\n",
    "                                                       (\"Sensitivity (control)\", Sensitivity_con),\n",
    "                                                       (\"F1\", f1)])\n",
    "\n",
    "df_summary_lasso=df_summary_lasso.select(\"metric\",round('Result',6).alias(\"LR-Lasso\"))\n",
    "df_summary_lasso.show(truncate=False)\n"
   ]
  },
  {
   "cell_type": "markdown",
   "metadata": {},
   "source": [
    "### Confusion Matrix"
   ]
  },
  {
   "cell_type": "code",
   "execution_count": 119,
   "metadata": {},
   "outputs": [
    {
     "name": "stdout",
     "output_type": "stream",
     "text": [
      "[[1477.   40.]\n",
      " [  11. 1542.]]\n"
     ]
    }
   ],
   "source": [
    "#There doesn't seem to be confusion matrix capabilities for the df version of mllib\n",
    "#but there is within the multiclass metrics module for the rdd version\n",
    "#so first we need to cast the predictions/label values to float, then create an rdd\n",
    "\n",
    "from pyspark.mllib.evaluation import MulticlassMetrics\n",
    "from pyspark.sql.types import FloatType\n",
    "import pyspark.sql.functions as func\n",
    "\n",
    "#ordering by prediction/casting to float for rdd\n",
    "predLabels = cvPred.select(['prediction','label']).withColumn(\n",
    "    'label', func.col('label'\n",
    "                     ).cast(\n",
    "        FloatType())\n",
    ").orderBy('prediction')\n",
    "\n",
    "#selecting only prediction and label columns\n",
    "predLabels = predLabels.select(['prediction','label'])\n",
    "\n",
    "#casting to rdd/tuple for confusion matrix\n",
    "metrics = MulticlassMetrics(predLabels.rdd.map(tuple))\n",
    "\n",
    "print(metrics.confusionMatrix().toArray())"
   ]
  },
  {
   "cell_type": "markdown",
   "metadata": {},
   "source": [
    "## Random Forest"
   ]
  },
  {
   "cell_type": "markdown",
   "metadata": {},
   "source": [
    "### Parameter Grid and Cross-Validation"
   ]
  },
  {
   "cell_type": "code",
   "execution_count": 169,
   "metadata": {},
   "outputs": [
    {
     "data": {
      "text/plain": [
       "CrossValidator_b374d3bd4ab5"
      ]
     },
     "execution_count": 169,
     "metadata": {},
     "output_type": "execute_result"
    }
   ],
   "source": [
    "#Spark Docs\n",
    "#https://spark.apache.org/docs/latest/ml-classification-regression.html#random-forest-classifier\n",
    "\n",
    "from pyspark.ml.classification import RandomForestClassifier\n",
    "from pyspark.ml.regression import RandomForestRegressor\n",
    "from pyspark.ml.evaluation import RegressionEvaluator\n",
    "\n",
    "rf = RandomForestClassifier(labelCol=\"label\", featuresCol=\"features\")\n",
    "evaluator = RegressionEvaluator(predictionCol=\"prediction\", labelCol=\"label\", metricName=\"r2\")\n",
    "\n",
    "paramGrid = ParamGridBuilder().addGrid(rf.maxDepth, [5, 7, 10]).addGrid(rf.numTrees, [50, 100, 300]).build()\n",
    "\n",
    "cvForest = CrossValidator(estimator=rf,\n",
    "                          estimatorParamMaps=paramGrid,\n",
    "                          evaluator=evaluator,\n",
    "                          numFolds=5\n",
    "                          )\n",
    "cvForest.setSeed(314)"
   ]
  },
  {
   "cell_type": "code",
   "execution_count": 170,
   "metadata": {},
   "outputs": [
    {
     "name": "stdout",
     "output_type": "stream",
     "text": [
      "CrossValidatorModel_7061a0f5c027\n"
     ]
    }
   ],
   "source": [
    "RF_mod = cvForest.fit(train)\n",
    "print(RF_mod)"
   ]
  },
  {
   "cell_type": "code",
   "execution_count": 171,
   "metadata": {},
   "outputs": [],
   "source": [
    "rfPreds = RF_mod.transform(test)"
   ]
  },
  {
   "cell_type": "markdown",
   "metadata": {},
   "source": [
    "### Results"
   ]
  },
  {
   "cell_type": "code",
   "execution_count": 172,
   "metadata": {},
   "outputs": [
    {
     "name": "stdout",
     "output_type": "stream",
     "text": [
      "--------------------\n",
      "Best Model Hyperparameters\n",
      "Number of Trees: 300\n",
      "Max Node Depth: 10\n"
     ]
    }
   ],
   "source": [
    "print('-'*20)\n",
    "print(\"Best Model Hyperparameters\")\n",
    "print(\"Number of Trees: \" + str(RF_mod.bestModel.getNumTrees))\n",
    "print(\"Max Node Depth: \" + str(RF_mod.bestModel.getOrDefault('maxDepth')))\n",
    "\n",
    "from pyspark.ml.evaluation import MulticlassClassificationEvaluator\n",
    "ev = MulticlassClassificationEvaluator()\n",
    "evaluator = BinaryClassificationEvaluator()"
   ]
  },
  {
   "cell_type": "code",
   "execution_count": 173,
   "metadata": {},
   "outputs": [],
   "source": [
    "#mse= evaluator.evaluate(rfPreds, {evaluator.metricName: \"mse\"})\n",
    "#rs=evaluator.evaluate(rfPreds)\n",
    "AUROC= evaluator.evaluate(rfPreds, {evaluator.metricName: \"areaUnderROC\"})\n",
    "Accuracy=ev.evaluate(rfPreds, {ev.metricName: \"accuracy\"})\n",
    "Precision_HD=ev.evaluate(rfPreds, {ev.metricLabel: \"precisionByLabel\", ev.metricLabel: 1.0})\n",
    "Sensitivity_HD= ev.evaluate(rfPreds, {ev.metricName: \"truePositiveRateByLabel\", ev.metricLabel: 1.0})\n",
    "Precision_con=ev.evaluate(rfPreds, {ev.metricLabel: \"precisionByLabel\", ev.metricLabel: 0.0})\n",
    "Sensitivity_con=ev.evaluate(rfPreds, {ev.metricName: \"truePositiveRateByLabel\", ev.metricLabel: 0.0})\n",
    "\n",
    "\n",
    "f1 = ev.evaluate(rfPreds, {ev.metricName: \"f1\"})"
   ]
  },
  {
   "cell_type": "code",
   "execution_count": 174,
   "metadata": {},
   "outputs": [
    {
     "name": "stdout",
     "output_type": "stream",
     "text": [
      "+---------------------------+-------------+\n",
      "|metric                     |Random Forest|\n",
      "+---------------------------+-------------+\n",
      "|AUROC                      |0.999885     |\n",
      "|Accuracy                   |0.984039     |\n",
      "|Precision (heart disease)  |0.984032     |\n",
      "|Sensitivity (heart disease)|0.999356     |\n",
      "|Precision (control)        |0.984032     |\n",
      "|Sensitivity (control)      |0.968359     |\n",
      "|F1                         |0.984032     |\n",
      "+---------------------------+-------------+\n",
      "\n"
     ]
    }
   ],
   "source": [
    "#Random Forest Regression in Summary\n",
    "schema = StructType([\n",
    "        StructField('Metric', StringType(), True),\n",
    "        StructField('Result', StringType(), True),\n",
    "])\n",
    "df_summary_rf=spark.createDataFrame(schema=schema,data=[(\"AUROC\", AUROC),\n",
    "                                                        (\"Accuracy\", Accuracy),(\"Precision (heart disease)\", Precision_HD),\n",
    "                                                       (\"Sensitivity (heart disease)\", Sensitivity_HD),\n",
    "                                                        (\"Precision (control)\", Precision_con),\n",
    "                                                       (\"Sensitivity (control)\", Sensitivity_con),\n",
    "                                                       (\"F1\", f1)])\n",
    "\n",
    "df_summary_rf=df_summary_rf.select(\"metric\",round('Result',6).alias(\"Random Forest\"))\n",
    "df_summary_rf.show(truncate=False)\n"
   ]
  },
  {
   "cell_type": "markdown",
   "metadata": {},
   "source": [
    "### Confusion Matrix"
   ]
  },
  {
   "cell_type": "code",
   "execution_count": 175,
   "metadata": {},
   "outputs": [
    {
     "name": "stdout",
     "output_type": "stream",
     "text": [
      "[[1469.   48.]\n",
      " [   1. 1552.]]\n"
     ]
    }
   ],
   "source": [
    "#There doesn't seem to be confusion matrix capabilities for the df version of mllib\n",
    "#but there is within the multiclass metrics module for the rdd version\n",
    "#so first we need to cast the predictions/label values to float, then create an rdd\n",
    "\n",
    "from pyspark.mllib.evaluation import MulticlassMetrics\n",
    "from pyspark.sql.types import FloatType\n",
    "import pyspark.sql.functions as func\n",
    "\n",
    "#ordering by prediction/casting to float for rdd\n",
    "predLabels = rfPreds.select(['prediction','label']).withColumn(\n",
    "    'label', func.col('label'\n",
    "                     ).cast(\n",
    "        FloatType())\n",
    ").orderBy('prediction')\n",
    "\n",
    "#selecting only prediction and label columns\n",
    "predLabels = predLabels.select(['prediction','label'])\n",
    "\n",
    "#casting to rdd/tuple for confusion matrix\n",
    "metrics = MulticlassMetrics(predLabels.rdd.map(tuple))\n",
    "\n",
    "#suppressing scientific notation in numpy\n",
    "np.set_printoptions(suppress=True)\n",
    "\n",
    "print(metrics.confusionMatrix().toArray())"
   ]
  },
  {
   "cell_type": "markdown",
   "metadata": {},
   "source": [
    "## Support-Vector Machine (SVM)"
   ]
  },
  {
   "cell_type": "markdown",
   "metadata": {},
   "source": [
    "### Cross-Validation"
   ]
  },
  {
   "cell_type": "code",
   "execution_count": 160,
   "metadata": {},
   "outputs": [
    {
     "name": "stdout",
     "output_type": "stream",
     "text": [
      "CrossValidatorModel_83d85441061b\n"
     ]
    }
   ],
   "source": [
    "#Note: I couldn't find a way to test multiple regularization parameters within a paramGrid in Pyspark\n",
    "#there is a fitMultiple module using ParamMaps\n",
    "#but I couldn't find any documentation on how to view or evaluate the models after running it\n",
    "from pyspark.ml.classification import LinearSVC\n",
    "from pyspark.ml.evaluation import MulticlassClassificationEvaluator\n",
    "\n",
    "svm = LinearSVC(labelCol=\"label\", featuresCol=\"features\", maxIter = 10)\n",
    "paramGrid = ParamGridBuilder().addGrid(svm.regParam,[0.05, .1, .3]).build()\n",
    "ev = MulticlassClassificationEvaluator(metricName = \"accuracy\")\n",
    "\n",
    "cvSVM = CrossValidator(estimator=svm,\n",
    "                       estimatorParamMaps=paramGrid,\n",
    "                       evaluator=ev,\n",
    "                       numFolds=5,\n",
    "                      )\n",
    "cvSVM.setSeed(314)\n",
    "# Fit the model\n",
    "cvSVMmodel = cvSVM.fit(train)\n",
    "print(cvSVMmodel)"
   ]
  },
  {
   "cell_type": "code",
   "execution_count": 161,
   "metadata": {},
   "outputs": [],
   "source": [
    "svmPreds = cvSVMmodel.transform(test)"
   ]
  },
  {
   "cell_type": "markdown",
   "metadata": {},
   "source": [
    "### Results"
   ]
  },
  {
   "cell_type": "code",
   "execution_count": 162,
   "metadata": {},
   "outputs": [
    {
     "name": "stdout",
     "output_type": "stream",
     "text": [
      "--------------------\n",
      "Best Model Hyperparameters\n",
      "Regularization Parameter: 0.1\n"
     ]
    }
   ],
   "source": [
    "#Getting evaluation metrics\n",
    "from pyspark.ml.evaluation import MulticlassClassificationEvaluator\n",
    "ev = MulticlassClassificationEvaluator(predictionCol=\"prediction\", labelCol=\"label\")\n",
    "\n",
    "print('-'*20)\n",
    "print(\"Best Model Hyperparameters\")\n",
    "print(\"Regularization Parameter: \" + str(cvSVMmodel.bestModel.getOrDefault('regParam')))"
   ]
  },
  {
   "cell_type": "code",
   "execution_count": 163,
   "metadata": {},
   "outputs": [],
   "source": [
    "#rs=evaluator.evaluate(svmPreds, {evaluator.metricName: \"r2\"})\n",
    "#mse= evaluator.evaluate(svmPreds, {evaluator.metricName: \"mse\"})\n",
    "\n",
    "Accuracy=cvSVMmodel.avgMetrics[0]\n",
    "Precision_HD=ev.evaluate(svmPreds, {ev.metricName: \"precisionByLabel\", ev.metricLabel: 1.0})\n",
    "Sensitivity_HD= ev.evaluate(svmPreds, {ev.metricName: \"recallByLabel\", ev.metricLabel: 1.0})\n",
    "Precision_con=ev.evaluate(svmPreds, {ev.metricName: \"precisionByLabel\", ev.metricLabel: 0.0})\n",
    "Sensitivity_con=ev.evaluate(svmPreds, {ev.metricName: \"recallByLabel\", ev.metricLabel: 0.0})\n",
    "\n",
    "f1 = ev.evaluate(svmPreds, {ev.metricName: \"f1\"})\n",
    "\n",
    "evaluator = BinaryClassificationEvaluator()\n",
    "AUROC= (evaluator.evaluate(svmPreds, {evaluator.metricName: \"areaUnderROC\"}))"
   ]
  },
  {
   "cell_type": "code",
   "execution_count": 164,
   "metadata": {},
   "outputs": [
    {
     "name": "stdout",
     "output_type": "stream",
     "text": [
      "+---------------------------+--------+\n",
      "|metric                     |SVM     |\n",
      "+---------------------------+--------+\n",
      "|AUROC                      |0.965385|\n",
      "|Accuracy                   |0.88609 |\n",
      "|Precision (heart disease)  |0.883721|\n",
      "|Sensitivity (heart disease)|0.929813|\n",
      "|Precision (control)        |0.924095|\n",
      "|Sensitivity (control)      |0.874753|\n",
      "|F1                         |0.902508|\n",
      "+---------------------------+--------+\n",
      "\n"
     ]
    }
   ],
   "source": [
    "#SVM Regression in Summary\n",
    "schema = StructType([\n",
    "        StructField('Metric', StringType(), True),\n",
    "        StructField('Result', StringType(), True),\n",
    "])\n",
    "df_summary_svm=spark.createDataFrame(schema=schema,data=[(\"AUROC\", AUROC),\n",
    "                                                        (\"Accuracy\", Accuracy),(\"Precision (heart disease)\", Precision_HD),\n",
    "                                                       (\"Sensitivity (heart disease)\", Sensitivity_HD),\n",
    "                                                        (\"Precision (control)\", Precision_con),\n",
    "                                                       (\"Sensitivity (control)\", Sensitivity_con),\n",
    "                                                       (\"F1\", f1)])\n",
    "\n",
    "df_summary_svm=df_summary_svm.select(\"metric\",round('Result',6).alias(\"SVM\"))\n",
    "df_summary_svm.show(truncate=False)\n"
   ]
  },
  {
   "cell_type": "code",
   "execution_count": 165,
   "metadata": {},
   "outputs": [
    {
     "name": "stdout",
     "output_type": "stream",
     "text": [
      "[[1327.  190.]\n",
      " [ 109. 1444.]]\n"
     ]
    }
   ],
   "source": [
    "#There doesn't seem to be confusion matrix capabilities for the df version of mllib\n",
    "#but there is within the multiclass metrics module for the rdd version\n",
    "#so first we need to cast the predictions/label values to float, then create an rdd\n",
    "\n",
    "from pyspark.mllib.evaluation import MulticlassMetrics\n",
    "from pyspark.sql.types import FloatType\n",
    "import pyspark.sql.functions as func\n",
    "\n",
    "#ordering by prediction/casting to float for rdd\n",
    "predLabels = svmPreds.select(['prediction','label']).withColumn(\n",
    "    'label', func.col('label'\n",
    "                     ).cast(\n",
    "        FloatType())\n",
    ").orderBy('prediction')\n",
    "\n",
    "#selecting only prediction and label columns\n",
    "predLabels = predLabels.select(['prediction','label'])\n",
    "\n",
    "#casting to rdd/tuple for confusion matrix\n",
    "metrics = MulticlassMetrics(predLabels.rdd.map(tuple))\n",
    "\n",
    "print(metrics.confusionMatrix().toArray())"
   ]
  },
  {
   "cell_type": "code",
   "execution_count": 176,
   "metadata": {},
   "outputs": [],
   "source": [
    "join1=df_summary_lr.join(df_summary_lasso,[\"metric\"],\"outer\")\n",
    "join2=join1.join(df_summary_rf,[\"metric\"],\"outer\")\n",
    "metric_summary=join2.join(df_summary_svm,[\"metric\"],\"outer\")\n"
   ]
  },
  {
   "cell_type": "code",
   "execution_count": 177,
   "metadata": {},
   "outputs": [
    {
     "name": "stdout",
     "output_type": "stream",
     "text": [
      "+---------------------------+-------------------+--------+-------------+--------+\n",
      "|metric                     |Logistic Regression|LR-Lasso|Random Forest|SVM     |\n",
      "+---------------------------+-------------------+--------+-------------+--------+\n",
      "|F1                         |0.963519           |0.983384|0.984032     |0.902508|\n",
      "|Accuracy                   |0.963518           |0.983388|0.984039     |0.88609 |\n",
      "|mse                        |0.036482           |0.016612|null         |null    |\n",
      "|AUROC                      |0.995205           |0.999559|0.999885     |0.965385|\n",
      "|Precision (control)        |0.963519           |0.983384|0.984032     |0.924095|\n",
      "|Sensitivity (heart disease)|0.960077           |0.992917|0.999356     |0.929813|\n",
      "|Precision (heart disease)  |0.963519           |0.983384|0.984032     |0.883721|\n",
      "|R Squared                  |0.854052           |0.933541|null         |null    |\n",
      "|Sensitivity (control)      |0.96704            |0.973632|0.968359     |0.874753|\n",
      "+---------------------------+-------------------+--------+-------------+--------+\n",
      "\n"
     ]
    }
   ],
   "source": [
    "metric_summary.show(truncate=False)"
   ]
  },
  {
   "cell_type": "code",
   "execution_count": null,
   "metadata": {},
   "outputs": [],
   "source": []
  }
 ],
 "metadata": {
  "kernelspec": {
   "display_name": "Python 3 (ipykernel)",
   "language": "python",
   "name": "python3"
  },
  "language_info": {
   "codemirror_mode": {
    "name": "ipython",
    "version": 3
   },
   "file_extension": ".py",
   "mimetype": "text/x-python",
   "name": "python",
   "nbconvert_exporter": "python",
   "pygments_lexer": "ipython3",
   "version": "3.9.7"
  }
 },
 "nbformat": 4,
 "nbformat_minor": 4
}
